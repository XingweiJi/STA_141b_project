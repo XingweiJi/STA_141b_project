{
 "cells": [
  {
   "cell_type": "code",
   "execution_count": 4,
   "metadata": {},
   "outputs": [],
   "source": [
    "import pandas as pd\n",
    "import numpy as np\n",
    "import sqlalchemy as sqla\n",
    "from io import StringIO\n",
    "\n",
    "#establish connection to database\n",
    "conn = sqla.create_engine('sqlite:///yelp.sqlite')"
   ]
  },
  {
   "cell_type": "code",
   "execution_count": 6,
   "metadata": {},
   "outputs": [],
   "source": [
    "#split business.json into bussines, attributes, hours and store in a database \n",
    "business=pd.read_json(\"/Users/sihuili/Downloads/yelp_dataset/yelp_academic_dataset_business.json\",lines=True)\n",
    "business.set_index(\"business_id\",inplace=True)\n",
    "\n",
    "attributes=pd.DataFrame.from_dict(business[\"attributes\"].dropna().to_dict(),orient=\"index\")\n",
    "attributes.index.name=\"business_id\"\n",
    "\n",
    "hours=pd.DataFrame.from_dict(business[\"hours\"].dropna().to_dict(),orient=\"index\")\n",
    "hours.index.name=\"business_id\"\n",
    "\n",
    "business.drop([\"hours\",\"attributes\"],axis=1,inplace=True)\n",
    "\n",
    "business.to_sql('business',conn,if_exists=\"replace\")\n",
    "hours.to_sql('hours',conn,if_exists=\"replace\")\n",
    "attributes.to_sql('attributes',conn,if_exists=\"replace\")\n",
    "\n",
    "#convert checkin.json into clean and neat dataframe and store in the database\n",
    "checkins=pd.read_json(\"/Users/sihuili/Downloads/yelp_dataset/yelp_academic_dataset_checkin.json\",lines=True,orient=\"record\",chunksize=10000)\n",
    "for checkin in checkins:\n",
    "    checkin.set_index(\"business_id\",inplace=True)\n",
    "    checkin=pd.DataFrame.from_dict(checkin[\"time\"].to_dict(),orient=\"index\")\n",
    "    checkin.reset_index(inplace=True)\n",
    "    checkin=checkin.melt(id_vars=\"index\")\n",
    "    days=pd.read_table(StringIO(checkin['variable'].to_csv(None,index=None)),sep='-',header=None)\n",
    "    checkin=checkin.join(days)\n",
    "    checkin.drop(\"variable\",axis=1,inplace=True)\n",
    "    checkin=checkin[[\"index\",0,1,\"value\"]]\n",
    "    checkin.columns=[\"business_id\",\"weekday\",\"hour\",\"checkins\"]\n",
    "    checkin.set_index(\"business_id\",inplace=True)\n",
    "    checkin[\"weekday\"]=checkin[\"weekday\"].astype(\"category\")\n",
    "    checkin.dropna(inplace=True)\n",
    "    checkin.to_sql('checkin',conn,if_exists=\"append\")\n",
    "\n",
    "#store review.json into the database\n",
    "reviews=pd.read_json(\"/Users/sihuili/Downloads/yelp_dataset/yelp_academic_dataset_review.json\",chunksize=100000,lines=True)\n",
    "for review in reviews:\n",
    "    review.set_index(\"business_id\",inplace=True)\n",
    "    review.to_sql(\"review\",conn,if_exists=\"append\")"
   ]
  },
  {
   "cell_type": "code",
   "execution_count": null,
   "metadata": {},
   "outputs": [],
   "source": []
  },
  {
   "cell_type": "code",
   "execution_count": 7,
   "metadata": {},
   "outputs": [],
   "source": [
    "import sqlite3\n",
    "conn = sqlite3.connect('yelp.sqlite')\n",
    "c = conn.cursor()"
   ]
  },
  {
   "cell_type": "code",
   "execution_count": 8,
   "metadata": {},
   "outputs": [],
   "source": [
    "cursor = c.execute(''' Select * from checkin; ''')\n",
    "business_id = []\n",
    "day_of_week = []\n",
    "checkin_hours = []\n",
    "check_in_counts = []\n",
    "for i in cursor:\n",
    "    business_id.append(i[0])\n",
    "    day_of_week.append(i[1])\n",
    "    checkin_hours.append(i[2])\n",
    "    check_in_counts.append(i[3])"
   ]
  },
  {
   "cell_type": "code",
   "execution_count": 31,
   "metadata": {},
   "outputs": [],
   "source": [
    "checkin_df = pd.DataFrame({'business_id':business_id, 'day_of_week':day_of_week, 'checkin_hours':checkin_hours, 'check_in_counts':check_in_counts})\n",
    "\n",
    "checkin_data = checkin_df.fillna(\"0\")\n",
    "\n",
    "checkin_df.to_csv(\"checkin.csv\")"
   ]
  },
  {
   "cell_type": "code",
   "execution_count": 32,
   "metadata": {},
   "outputs": [],
   "source": [
    "business.to_csv(\"business.csv\")\n",
    "hours.to_csv(\"hours.csv\")\n",
    "attributes.to_csv(\"attributes.csv\")"
   ]
  },
  {
   "cell_type": "markdown",
   "metadata": {},
   "source": [
    "# Find the businesses with top 10 number of checkin counts"
   ]
  },
  {
   "cell_type": "code",
   "execution_count": 21,
   "metadata": {},
   "outputs": [],
   "source": [
    "unique_checkin_counts = checkin_df.groupby(\"business_id\")[\"check_in_counts\"].sum()\n",
    "\n",
    "checkin_top10 = unique_checkin_counts.sort_values(ascending = False)[:10]\n"
   ]
  },
  {
   "cell_type": "code",
   "execution_count": 54,
   "metadata": {},
   "outputs": [
    {
     "data": {
      "text/plain": [
       "[['McCarran International Airport'],\n",
       " ['Phoenix Sky Harbor International Airport'],\n",
       " ['Charlotte Douglas International Airport'],\n",
       " ['The Cosmopolitan of Las Vegas'],\n",
       " ['Kung Fu Tea'],\n",
       " ['ARIA Resort & Casino'],\n",
       " ['The Venetian Las Vegas'],\n",
       " ['Bellagio Hotel'],\n",
       " ['MGM Grand Hotel'],\n",
       " ['Caesars Palace Las Vegas Hotel & Casino']]"
      ]
     },
     "execution_count": 54,
     "metadata": {},
     "output_type": "execute_result"
    }
   ],
   "source": [
    "[list(business.name[business.index == i]) for i in checkin_top10.index]"
   ]
  },
  {
   "cell_type": "code",
   "execution_count": 55,
   "metadata": {},
   "outputs": [
    {
     "data": {
      "text/plain": [
       "business_id\n",
       "FaHADZARwnY4yvlvpnsfGA    138477.0\n",
       "JmI9nslLD7KZqRr__Bg6NQ    118185.0\n",
       "yQab5dxZzgBLTEHCw9V7_w     52675.0\n",
       "5LNZ67Yw9RD6nf4_UhXOjw     45416.0\n",
       "IZivKqtHyz4-ts8KsnvMrA     36327.0\n",
       "SMPbvZLSMMb7KU76YNYMGg     33733.0\n",
       "Wxxvi3LZbHNIDwJ-ZimtnA     31591.0\n",
       "na4Th5DrNauOv-c43QQFvA     30339.0\n",
       "El4FC8jcawUVgw_0EIcbaQ     29318.0\n",
       "VyjyHoBg3KC5BSFRlD0ZPQ     28427.0\n",
       "Name: check_in_counts, dtype: float64"
      ]
     },
     "execution_count": 55,
     "metadata": {},
     "output_type": "execute_result"
    }
   ],
   "source": [
    "checkin_top10"
   ]
  },
  {
   "cell_type": "markdown",
   "metadata": {},
   "source": [
    "# which day of week has the highest number of checkin counts?"
   ]
  },
  {
   "cell_type": "code",
   "execution_count": 87,
   "metadata": {},
   "outputs": [
    {
     "data": {
      "text/plain": [
       "day_of_week\n",
       "Sat    3545990.0\n",
       "Sun    3240853.0\n",
       "Fri    2569730.0\n",
       "Thu    2211971.0\n",
       "Wed    2146794.0\n",
       "Mon    2134388.0\n",
       "Tue    2066158.0\n",
       "Name: check_in_counts, dtype: float64"
      ]
     },
     "execution_count": 87,
     "metadata": {},
     "output_type": "execute_result"
    }
   ],
   "source": [
    "checkin_dow_total = checkin_df.groupby('day_of_week')['check_in_counts'].sum().sort_values(ascending = False)\n",
    "checkin_dow_total"
   ]
  },
  {
   "cell_type": "code",
   "execution_count": 88,
   "metadata": {},
   "outputs": [
    {
     "data": {
      "image/png": "[encoded data removed]",
      "text/plain": [
       "<Figure size 720x720 with 1 Axes>"
      ]
     },
     "metadata": {},
     "output_type": "display_data"
    },
    {
     "data": {
      "text/plain": [
       "<Figure size 1440x1440 with 0 Axes>"
      ]
     },
     "metadata": {},
     "output_type": "display_data"
    }
   ],
   "source": [
    "import matplotlib.pyplot as plt\n",
    "\n",
    "# Pie chart, where the slices will be ordered and plotted counter-clockwise:\n",
    "labels = list(checkin_dow_total.index)\n",
    "sizes = np.array(checkin_dow_total/sum(checkin_dow_total)).round(4)*100\n",
    "explode = (0.1, 0, 0, 0, 0, 0, 0)  # only \"explode\" the 2nd slice (i.e. 'Hogs')\n",
    "\n",
    "fig1, ax1 = plt.subplots(figsize=(10, 10))\n",
    "ax1.pie(sizes, explode=explode, labels=labels, autopct='%1.1f%%',\n",
    "        shadow=True, startangle=90)\n",
    "ax1.axis('equal')  # Equal aspect ratio ensures that pie is drawn as a circle.\n",
    "\n",
    "plt.show()"
   ]
  },
  {
   "cell_type": "markdown",
   "metadata": {},
   "source": [
    "# which time period has the most checkin counts?"
   ]
  },
  {
   "cell_type": "code",
   "execution_count": 92,
   "metadata": {
    "scrolled": true
   },
   "outputs": [
    {
     "data": {
      "text/html": [
       "<div>\n",
       "<style scoped>\n",
       "    .dataframe tbody tr th:only-of-type {\n",
       "        vertical-align: middle;\n",
       "    }\n",
       "\n",
       "    .dataframe tbody tr th {\n",
       "        vertical-align: top;\n",
       "    }\n",
       "\n",
       "    .dataframe thead th {\n",
       "        text-align: right;\n",
       "    }\n",
       "</style>\n",
       "<table border=\"1\" class=\"dataframe\">\n",
       "  <thead>\n",
       "    <tr style=\"text-align: right;\">\n",
       "      <th></th>\n",
       "      <th>business_id</th>\n",
       "      <th>day_of_week</th>\n",
       "      <th>checkin_hours</th>\n",
       "      <th>check_in_counts</th>\n",
       "    </tr>\n",
       "  </thead>\n",
       "  <tbody>\n",
       "    <tr>\n",
       "      <th>0</th>\n",
       "      <td>--cZ6Hhc9F7VkKXxHMVZSQ</td>\n",
       "      <td>Fri</td>\n",
       "      <td>0</td>\n",
       "      <td>18.0</td>\n",
       "    </tr>\n",
       "    <tr>\n",
       "      <th>1</th>\n",
       "      <td>-06-Fdi30wJx-JA8P7CAng</td>\n",
       "      <td>Fri</td>\n",
       "      <td>0</td>\n",
       "      <td>2.0</td>\n",
       "    </tr>\n",
       "    <tr>\n",
       "      <th>2</th>\n",
       "      <td>-0CTrPQNiSyClxhdO4HSDQ</td>\n",
       "      <td>Fri</td>\n",
       "      <td>0</td>\n",
       "      <td>2.0</td>\n",
       "    </tr>\n",
       "    <tr>\n",
       "      <th>3</th>\n",
       "      <td>-1xCh7Cocn6IwFzhELyohA</td>\n",
       "      <td>Fri</td>\n",
       "      <td>0</td>\n",
       "      <td>2.0</td>\n",
       "    </tr>\n",
       "    <tr>\n",
       "      <th>4</th>\n",
       "      <td>-5L8zOxibac-vBrsYtxXbQ</td>\n",
       "      <td>Fri</td>\n",
       "      <td>0</td>\n",
       "      <td>18.0</td>\n",
       "    </tr>\n",
       "  </tbody>\n",
       "</table>\n",
       "</div>"
      ],
      "text/plain": [
       "              business_id day_of_week  checkin_hours  check_in_counts\n",
       "0  --cZ6Hhc9F7VkKXxHMVZSQ         Fri              0             18.0\n",
       "1  -06-Fdi30wJx-JA8P7CAng         Fri              0              2.0\n",
       "2  -0CTrPQNiSyClxhdO4HSDQ         Fri              0              2.0\n",
       "3  -1xCh7Cocn6IwFzhELyohA         Fri              0              2.0\n",
       "4  -5L8zOxibac-vBrsYtxXbQ         Fri              0             18.0"
      ]
     },
     "execution_count": 92,
     "metadata": {},
     "output_type": "execute_result"
    }
   ],
   "source": [
    "checkin_df.head()"
   ]
  },
  {
   "cell_type": "code",
   "execution_count": 100,
   "metadata": {},
   "outputs": [],
   "source": [
    "checkin_hours_total = checkin_df.groupby(\"checkin_hours\")['check_in_counts'].sum()\n",
    "checkin_hours_top10 = checkin_df.groupby(\"checkin_hours\")['check_in_counts'].sum().sort_values(ascending = False)[:10]"
   ]
  },
  {
   "cell_type": "code",
   "execution_count": 115,
   "metadata": {},
   "outputs": [
    {
     "data": {
      "image/png": "[encoded data removed]",
      "text/plain": [
       "<Figure size 1080x360 with 1 Axes>"
      ]
     },
     "metadata": {},
     "output_type": "display_data"
    }
   ],
   "source": [
    "objects = checkin_hours_total.index\n",
    "y_pos = np.arange(len(objects))\n",
    "performance = list(checkin_hours_total)\n",
    "\n",
    "fig2, ax1 = plt.subplots(figsize=(15, 5))\n",
    "\n",
    "plt.bar(y_pos, performance, align='center', alpha=0.5)\n",
    "plt.xticks(y_pos, objects)\n",
    "plt.ylabel('Counts')\n",
    "plt.title('Total checkin counts in 24 hours')\n",
    "\n",
    "plt.show()"
   ]
  },
  {
   "cell_type": "code",
   "execution_count": null,
   "metadata": {},
   "outputs": [],
   "source": []
  },
  {
   "cell_type": "markdown",
   "metadata": {},
   "source": [
    "# Build a regression model for checkin counts. \n",
    "\n",
    "Response: checkin counts\n",
    "Predictors: noise level, appointment, outdoorseating, good for kids,"
   ]
  },
  {
   "cell_type": "code",
   "execution_count": 117,
   "metadata": {},
   "outputs": [],
   "source": [
    "from sklearn import linear_model\n",
    "reg = linear_model.LinearRegression()"
   ]
  },
  {
   "cell_type": "code",
   "execution_count": null,
   "metadata": {},
   "outputs": [],
   "source": [
    "reg.fit()"
   ]
  },
  {
   "cell_type": "code",
   "execution_count": 119,
   "metadata": {},
   "outputs": [
    {
     "data": {
      "text/plain": [
       "(162807, 39)"
      ]
     },
     "execution_count": 119,
     "metadata": {},
     "output_type": "execute_result"
    }
   ],
   "source": [
    "attributes.shape"
   ]
  },
  {
   "cell_type": "code",
   "execution_count": 121,
   "metadata": {},
   "outputs": [
    {
     "data": {
      "text/html": [
       "<div>\n",
       "<style scoped>\n",
       "    .dataframe tbody tr th:only-of-type {\n",
       "        vertical-align: middle;\n",
       "    }\n",
       "\n",
       "    .dataframe tbody tr th {\n",
       "        vertical-align: top;\n",
       "    }\n",
       "\n",
       "    .dataframe thead th {\n",
       "        text-align: right;\n",
       "    }\n",
       "</style>\n",
       "<table border=\"1\" class=\"dataframe\">\n",
       "  <thead>\n",
       "    <tr style=\"text-align: right;\">\n",
       "      <th></th>\n",
       "      <th>BikeParking</th>\n",
       "      <th>BusinessAcceptsCreditCards</th>\n",
       "      <th>BusinessParking</th>\n",
       "      <th>GoodForKids</th>\n",
       "      <th>HasTV</th>\n",
       "      <th>NoiseLevel</th>\n",
       "      <th>OutdoorSeating</th>\n",
       "      <th>RestaurantsAttire</th>\n",
       "      <th>RestaurantsDelivery</th>\n",
       "      <th>RestaurantsGoodForGroups</th>\n",
       "      <th>...</th>\n",
       "      <th>Music</th>\n",
       "      <th>Smoking</th>\n",
       "      <th>ByAppointmentOnly</th>\n",
       "      <th>AcceptsInsurance</th>\n",
       "      <th>BusinessAcceptsBitcoin</th>\n",
       "      <th>HairSpecializesIn</th>\n",
       "      <th>AgesAllowed</th>\n",
       "      <th>RestaurantsCounterService</th>\n",
       "      <th>Open24Hours</th>\n",
       "      <th>DietaryRestrictions</th>\n",
       "    </tr>\n",
       "    <tr>\n",
       "      <th>business_id</th>\n",
       "      <th></th>\n",
       "      <th></th>\n",
       "      <th></th>\n",
       "      <th></th>\n",
       "      <th></th>\n",
       "      <th></th>\n",
       "      <th></th>\n",
       "      <th></th>\n",
       "      <th></th>\n",
       "      <th></th>\n",
       "      <th></th>\n",
       "      <th></th>\n",
       "      <th></th>\n",
       "      <th></th>\n",
       "      <th></th>\n",
       "      <th></th>\n",
       "      <th></th>\n",
       "      <th></th>\n",
       "      <th></th>\n",
       "      <th></th>\n",
       "      <th></th>\n",
       "    </tr>\n",
       "  </thead>\n",
       "  <tbody>\n",
       "    <tr>\n",
       "      <th>--1UhMGODdWsrMastO9DZw</th>\n",
       "      <td>NaN</td>\n",
       "      <td>NaN</td>\n",
       "      <td>{'garage': False, 'street': False, 'validated'...</td>\n",
       "      <td>True</td>\n",
       "      <td>NaN</td>\n",
       "      <td>quiet</td>\n",
       "      <td>True</td>\n",
       "      <td>casual</td>\n",
       "      <td>False</td>\n",
       "      <td>True</td>\n",
       "      <td>...</td>\n",
       "      <td>NaN</td>\n",
       "      <td>NaN</td>\n",
       "      <td>NaN</td>\n",
       "      <td>NaN</td>\n",
       "      <td>NaN</td>\n",
       "      <td>NaN</td>\n",
       "      <td>NaN</td>\n",
       "      <td>NaN</td>\n",
       "      <td>NaN</td>\n",
       "      <td>NaN</td>\n",
       "    </tr>\n",
       "    <tr>\n",
       "      <th>--6MefnULPED_I942VcFNA</th>\n",
       "      <td>False</td>\n",
       "      <td>True</td>\n",
       "      <td>{'garage': False, 'street': False, 'validated'...</td>\n",
       "      <td>True</td>\n",
       "      <td>False</td>\n",
       "      <td>average</td>\n",
       "      <td>False</td>\n",
       "      <td>casual</td>\n",
       "      <td>False</td>\n",
       "      <td>True</td>\n",
       "      <td>...</td>\n",
       "      <td>NaN</td>\n",
       "      <td>NaN</td>\n",
       "      <td>NaN</td>\n",
       "      <td>NaN</td>\n",
       "      <td>NaN</td>\n",
       "      <td>NaN</td>\n",
       "      <td>NaN</td>\n",
       "      <td>NaN</td>\n",
       "      <td>NaN</td>\n",
       "      <td>NaN</td>\n",
       "    </tr>\n",
       "    <tr>\n",
       "      <th>--7zmmkVg-IMGaXbuVd0SQ</th>\n",
       "      <td>True</td>\n",
       "      <td>True</td>\n",
       "      <td>{'garage': False, 'street': False, 'validated'...</td>\n",
       "      <td>NaN</td>\n",
       "      <td>NaN</td>\n",
       "      <td>NaN</td>\n",
       "      <td>NaN</td>\n",
       "      <td>NaN</td>\n",
       "      <td>NaN</td>\n",
       "      <td>NaN</td>\n",
       "      <td>...</td>\n",
       "      <td>NaN</td>\n",
       "      <td>NaN</td>\n",
       "      <td>NaN</td>\n",
       "      <td>NaN</td>\n",
       "      <td>NaN</td>\n",
       "      <td>NaN</td>\n",
       "      <td>NaN</td>\n",
       "      <td>NaN</td>\n",
       "      <td>NaN</td>\n",
       "      <td>NaN</td>\n",
       "    </tr>\n",
       "    <tr>\n",
       "      <th>--8LPVSo5i0Oo61X01sV9A</th>\n",
       "      <td>NaN</td>\n",
       "      <td>True</td>\n",
       "      <td>NaN</td>\n",
       "      <td>NaN</td>\n",
       "      <td>NaN</td>\n",
       "      <td>NaN</td>\n",
       "      <td>NaN</td>\n",
       "      <td>NaN</td>\n",
       "      <td>NaN</td>\n",
       "      <td>NaN</td>\n",
       "      <td>...</td>\n",
       "      <td>NaN</td>\n",
       "      <td>NaN</td>\n",
       "      <td>True</td>\n",
       "      <td>True</td>\n",
       "      <td>NaN</td>\n",
       "      <td>NaN</td>\n",
       "      <td>NaN</td>\n",
       "      <td>NaN</td>\n",
       "      <td>NaN</td>\n",
       "      <td>NaN</td>\n",
       "    </tr>\n",
       "    <tr>\n",
       "      <th>--9QQLMTbFzLJ_oT-ON3Xw</th>\n",
       "      <td>NaN</td>\n",
       "      <td>True</td>\n",
       "      <td>{'garage': False, 'street': False, 'validated'...</td>\n",
       "      <td>True</td>\n",
       "      <td>NaN</td>\n",
       "      <td>NaN</td>\n",
       "      <td>NaN</td>\n",
       "      <td>NaN</td>\n",
       "      <td>NaN</td>\n",
       "      <td>NaN</td>\n",
       "      <td>...</td>\n",
       "      <td>NaN</td>\n",
       "      <td>NaN</td>\n",
       "      <td>False</td>\n",
       "      <td>NaN</td>\n",
       "      <td>NaN</td>\n",
       "      <td>NaN</td>\n",
       "      <td>NaN</td>\n",
       "      <td>NaN</td>\n",
       "      <td>NaN</td>\n",
       "      <td>NaN</td>\n",
       "    </tr>\n",
       "  </tbody>\n",
       "</table>\n",
       "<p>5 rows × 39 columns</p>\n",
       "</div>"
      ],
      "text/plain": [
       "                       BikeParking BusinessAcceptsCreditCards  \\\n",
       "business_id                                                     \n",
       "--1UhMGODdWsrMastO9DZw         NaN                        NaN   \n",
       "--6MefnULPED_I942VcFNA       False                       True   \n",
       "--7zmmkVg-IMGaXbuVd0SQ        True                       True   \n",
       "--8LPVSo5i0Oo61X01sV9A         NaN                       True   \n",
       "--9QQLMTbFzLJ_oT-ON3Xw         NaN                       True   \n",
       "\n",
       "                                                          BusinessParking  \\\n",
       "business_id                                                                 \n",
       "--1UhMGODdWsrMastO9DZw  {'garage': False, 'street': False, 'validated'...   \n",
       "--6MefnULPED_I942VcFNA  {'garage': False, 'street': False, 'validated'...   \n",
       "--7zmmkVg-IMGaXbuVd0SQ  {'garage': False, 'street': False, 'validated'...   \n",
       "--8LPVSo5i0Oo61X01sV9A                                                NaN   \n",
       "--9QQLMTbFzLJ_oT-ON3Xw  {'garage': False, 'street': False, 'validated'...   \n",
       "\n",
       "                       GoodForKids  HasTV NoiseLevel OutdoorSeating  \\\n",
       "business_id                                                           \n",
       "--1UhMGODdWsrMastO9DZw        True    NaN      quiet           True   \n",
       "--6MefnULPED_I942VcFNA        True  False    average          False   \n",
       "--7zmmkVg-IMGaXbuVd0SQ         NaN    NaN        NaN            NaN   \n",
       "--8LPVSo5i0Oo61X01sV9A         NaN    NaN        NaN            NaN   \n",
       "--9QQLMTbFzLJ_oT-ON3Xw        True    NaN        NaN            NaN   \n",
       "\n",
       "                       RestaurantsAttire RestaurantsDelivery  \\\n",
       "business_id                                                    \n",
       "--1UhMGODdWsrMastO9DZw            casual               False   \n",
       "--6MefnULPED_I942VcFNA            casual               False   \n",
       "--7zmmkVg-IMGaXbuVd0SQ               NaN                 NaN   \n",
       "--8LPVSo5i0Oo61X01sV9A               NaN                 NaN   \n",
       "--9QQLMTbFzLJ_oT-ON3Xw               NaN                 NaN   \n",
       "\n",
       "                       RestaurantsGoodForGroups         ...         Music  \\\n",
       "business_id                                             ...                 \n",
       "--1UhMGODdWsrMastO9DZw                     True         ...           NaN   \n",
       "--6MefnULPED_I942VcFNA                     True         ...           NaN   \n",
       "--7zmmkVg-IMGaXbuVd0SQ                      NaN         ...           NaN   \n",
       "--8LPVSo5i0Oo61X01sV9A                      NaN         ...           NaN   \n",
       "--9QQLMTbFzLJ_oT-ON3Xw                      NaN         ...           NaN   \n",
       "\n",
       "                       Smoking ByAppointmentOnly AcceptsInsurance  \\\n",
       "business_id                                                         \n",
       "--1UhMGODdWsrMastO9DZw     NaN               NaN              NaN   \n",
       "--6MefnULPED_I942VcFNA     NaN               NaN              NaN   \n",
       "--7zmmkVg-IMGaXbuVd0SQ     NaN               NaN              NaN   \n",
       "--8LPVSo5i0Oo61X01sV9A     NaN              True             True   \n",
       "--9QQLMTbFzLJ_oT-ON3Xw     NaN             False              NaN   \n",
       "\n",
       "                       BusinessAcceptsBitcoin HairSpecializesIn AgesAllowed  \\\n",
       "business_id                                                                   \n",
       "--1UhMGODdWsrMastO9DZw                    NaN               NaN         NaN   \n",
       "--6MefnULPED_I942VcFNA                    NaN               NaN         NaN   \n",
       "--7zmmkVg-IMGaXbuVd0SQ                    NaN               NaN         NaN   \n",
       "--8LPVSo5i0Oo61X01sV9A                    NaN               NaN         NaN   \n",
       "--9QQLMTbFzLJ_oT-ON3Xw                    NaN               NaN         NaN   \n",
       "\n",
       "                       RestaurantsCounterService Open24Hours  \\\n",
       "business_id                                                    \n",
       "--1UhMGODdWsrMastO9DZw                       NaN         NaN   \n",
       "--6MefnULPED_I942VcFNA                       NaN         NaN   \n",
       "--7zmmkVg-IMGaXbuVd0SQ                       NaN         NaN   \n",
       "--8LPVSo5i0Oo61X01sV9A                       NaN         NaN   \n",
       "--9QQLMTbFzLJ_oT-ON3Xw                       NaN         NaN   \n",
       "\n",
       "                       DietaryRestrictions  \n",
       "business_id                                 \n",
       "--1UhMGODdWsrMastO9DZw                 NaN  \n",
       "--6MefnULPED_I942VcFNA                 NaN  \n",
       "--7zmmkVg-IMGaXbuVd0SQ                 NaN  \n",
       "--8LPVSo5i0Oo61X01sV9A                 NaN  \n",
       "--9QQLMTbFzLJ_oT-ON3Xw                 NaN  \n",
       "\n",
       "[5 rows x 39 columns]"
      ]
     },
     "execution_count": 121,
     "metadata": {},
     "output_type": "execute_result"
    }
   ],
   "source": [
    "attributes.head()"
   ]
  },
  {
   "cell_type": "code",
   "execution_count": 124,
   "metadata": {},
   "outputs": [
    {
     "data": {
      "text/plain": [
       "162807"
      ]
     },
     "execution_count": 124,
     "metadata": {},
     "output_type": "execute_result"
    }
   ],
   "source": [
    "len(attributes.index.unique())"
   ]
  },
  {
   "cell_type": "code",
   "execution_count": 129,
   "metadata": {},
   "outputs": [
    {
     "data": {
      "text/plain": [
       "4171864"
      ]
     },
     "execution_count": 129,
     "metadata": {},
     "output_type": "execute_result"
    }
   ],
   "source": [
    "len(np.unique(checkin_df.index))"
   ]
  },
  {
   "cell_type": "code",
   "execution_count": null,
   "metadata": {},
   "outputs": [],
   "source": []
  }
 ],
 "metadata": {
  "kernelspec": {
   "display_name": "Python 3",
   "language": "python",
   "name": "python3"
  },
  "language_info": {
   "codemirror_mode": {
    "name": "ipython",
    "version": 3
   },
   "file_extension": ".py",
   "mimetype": "text/x-python",
   "name": "python",
   "nbconvert_exporter": "python",
   "pygments_lexer": "ipython3",
   "version": "3.6.5"
  }
 },
 "nbformat": 4,
 "nbformat_minor": 2
}
