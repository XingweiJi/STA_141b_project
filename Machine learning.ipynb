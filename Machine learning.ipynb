{
 "cells": [
  {
   "cell_type": "code",
   "execution_count": 42,
   "metadata": {},
   "outputs": [],
   "source": [
    "import pandas as pd\n",
    "import numpy as np\n",
    "import keras\n",
    "from keras.models import Sequential\n",
    "from keras.layers import Dense\n",
    "from sklearn.preprocessing import OneHotEncoder\n",
    "from sklearn.model_selection import train_test_split\n",
    "from matplotlib import pyplot as plt\n",
    "from sklearn.linear_model import LogisticRegression\n",
    "from sklearn.preprocessing import LabelEncoder\n",
    "from sklearn.metrics import roc_curve, auc\n",
    "from sklearn.model_selection import StratifiedKFold\n",
    "from sklearn.preprocessing import LabelBinarizer\n",
    "from sklearn.multiclass import OneVsRestClassifier\n",
    "from sklearn import svm\n",
    "from scipy import interp\n",
    "from sklearn.metrics import precision_recall_curve\n",
    "from sklearn.metrics import average_precision_score\n",
    "from sklearn.feature_selection import SelectFromModel\n",
    "from sklearn.decomposition import TruncatedSVD\n",
    "from collections import Counter"
   ]
  },
  {
   "cell_type": "markdown",
   "metadata": {},
   "source": [
    "# Goal: We want to predict the star that user is going to give the restaurant based on the review and restaurant's information"
   ]
  },
  {
   "cell_type": "markdown",
   "metadata": {},
   "source": [
    "# Preprocess Data"
   ]
  },
  {
   "cell_type": "code",
   "execution_count": 2,
   "metadata": {},
   "outputs": [
    {
     "name": "stdout",
     "output_type": "stream",
     "text": [
      "<class 'pandas.core.frame.DataFrame'>\n",
      "RangeIndex: 127327 entries, 0 to 127326\n",
      "Data columns (total 47 columns):\n",
      "Unnamed: 0                    127327 non-null int64\n",
      "business_id                   127327 non-null object\n",
      "stars                         127327 non-null float64\n",
      "BikeParking                   88373 non-null object\n",
      "BusinessAcceptsCreditCards    117514 non-null object\n",
      "BusinessParking               93323 non-null object\n",
      "GoodForKids                   71203 non-null object\n",
      "HasTV                         58744 non-null object\n",
      "NoiseLevel                    57762 non-null object\n",
      "OutdoorSeating                61561 non-null object\n",
      "RestaurantsAttire             53041 non-null object\n",
      "RestaurantsDelivery           56307 non-null object\n",
      "RestaurantsGoodForGroups      59566 non-null object\n",
      "RestaurantsPriceRange2        93788 non-null float64\n",
      "RestaurantsReservations       56463 non-null object\n",
      "RestaurantsTakeOut            61741 non-null object\n",
      "Alcohol                       60486 non-null object\n",
      "Caters                        57173 non-null object\n",
      "DogsAllowed                   21651 non-null object\n",
      "DriveThru                     4903 non-null object\n",
      "GoodForMeal                   54701 non-null object\n",
      "RestaurantsTableService       52077 non-null object\n",
      "WheelchairAccessible          68912 non-null object\n",
      "WiFi                          63817 non-null object\n",
      "Ambience                      58779 non-null object\n",
      "BYOB                          4422 non-null object\n",
      "BYOBCorkage                   6176 non-null object\n",
      "BestNights                    15264 non-null object\n",
      "CoatCheck                     16156 non-null object\n",
      "Corkage                       3536 non-null object\n",
      "GoodForDancing                16682 non-null object\n",
      "HappyHour                     16753 non-null object\n",
      "Music                         16456 non-null object\n",
      "Smoking                       15711 non-null object\n",
      "ByAppointmentOnly             33777 non-null object\n",
      "AcceptsInsurance              8747 non-null object\n",
      "BusinessAcceptsBitcoin        17680 non-null object\n",
      "HairSpecializesIn             1379 non-null object\n",
      "AgesAllowed                   1970 non-null object\n",
      "RestaurantsCounterService     2000 non-null object\n",
      "Open24Hours                   2144 non-null object\n",
      "DietaryRestrictions           410 non-null object\n",
      "useful                        127327 non-null int64\n",
      "text                          127327 non-null object\n",
      "review_stars                  127327 non-null int64\n",
      "count(checkins)               127327 non-null int64\n",
      "sentiments                    127325 non-null float64\n",
      "dtypes: float64(3), int64(4), object(40)\n",
      "memory usage: 45.7+ MB\n"
     ]
    }
   ],
   "source": [
    "df = pd.read_csv('complete_nlp.csv')\n",
    "df.info()"
   ]
  },
  {
   "cell_type": "code",
   "execution_count": 3,
   "metadata": {},
   "outputs": [
    {
     "data": {
      "text/html": [
       "<div>\n",
       "<style scoped>\n",
       "    .dataframe tbody tr th:only-of-type {\n",
       "        vertical-align: middle;\n",
       "    }\n",
       "\n",
       "    .dataframe tbody tr th {\n",
       "        vertical-align: top;\n",
       "    }\n",
       "\n",
       "    .dataframe thead th {\n",
       "        text-align: right;\n",
       "    }\n",
       "</style>\n",
       "<table border=\"1\" class=\"dataframe\">\n",
       "  <thead>\n",
       "    <tr style=\"text-align: right;\">\n",
       "      <th></th>\n",
       "      <th>stars</th>\n",
       "      <th>BikeParking</th>\n",
       "      <th>BusinessAcceptsCreditCards</th>\n",
       "      <th>GoodForKids</th>\n",
       "      <th>HasTV</th>\n",
       "      <th>NoiseLevel</th>\n",
       "      <th>OutdoorSeating</th>\n",
       "      <th>RestaurantsAttire</th>\n",
       "      <th>RestaurantsDelivery</th>\n",
       "      <th>RestaurantsGoodForGroups</th>\n",
       "      <th>...</th>\n",
       "      <th>BusinessAcceptsBitcoin</th>\n",
       "      <th>HairSpecializesIn</th>\n",
       "      <th>AgesAllowed</th>\n",
       "      <th>RestaurantsCounterService</th>\n",
       "      <th>Open24Hours</th>\n",
       "      <th>DietaryRestrictions</th>\n",
       "      <th>useful</th>\n",
       "      <th>review_stars</th>\n",
       "      <th>count(checkins)</th>\n",
       "      <th>sentiments</th>\n",
       "    </tr>\n",
       "  </thead>\n",
       "  <tbody>\n",
       "    <tr>\n",
       "      <th>0</th>\n",
       "      <td>4.0</td>\n",
       "      <td>True</td>\n",
       "      <td>True</td>\n",
       "      <td>NaN</td>\n",
       "      <td>NaN</td>\n",
       "      <td>NaN</td>\n",
       "      <td>NaN</td>\n",
       "      <td>NaN</td>\n",
       "      <td>NaN</td>\n",
       "      <td>NaN</td>\n",
       "      <td>...</td>\n",
       "      <td>NaN</td>\n",
       "      <td>NaN</td>\n",
       "      <td>NaN</td>\n",
       "      <td>NaN</td>\n",
       "      <td>NaN</td>\n",
       "      <td>NaN</td>\n",
       "      <td>11</td>\n",
       "      <td>4</td>\n",
       "      <td>47</td>\n",
       "      <td>0.6</td>\n",
       "    </tr>\n",
       "    <tr>\n",
       "      <th>1</th>\n",
       "      <td>4.0</td>\n",
       "      <td>False</td>\n",
       "      <td>True</td>\n",
       "      <td>False</td>\n",
       "      <td>False</td>\n",
       "      <td>average</td>\n",
       "      <td>False</td>\n",
       "      <td>dressy</td>\n",
       "      <td>False</td>\n",
       "      <td>True</td>\n",
       "      <td>...</td>\n",
       "      <td>NaN</td>\n",
       "      <td>NaN</td>\n",
       "      <td>NaN</td>\n",
       "      <td>NaN</td>\n",
       "      <td>False</td>\n",
       "      <td>NaN</td>\n",
       "      <td>9</td>\n",
       "      <td>4</td>\n",
       "      <td>140</td>\n",
       "      <td>0.4</td>\n",
       "    </tr>\n",
       "    <tr>\n",
       "      <th>2</th>\n",
       "      <td>4.0</td>\n",
       "      <td>False</td>\n",
       "      <td>True</td>\n",
       "      <td>False</td>\n",
       "      <td>False</td>\n",
       "      <td>average</td>\n",
       "      <td>False</td>\n",
       "      <td>dressy</td>\n",
       "      <td>False</td>\n",
       "      <td>True</td>\n",
       "      <td>...</td>\n",
       "      <td>NaN</td>\n",
       "      <td>NaN</td>\n",
       "      <td>NaN</td>\n",
       "      <td>NaN</td>\n",
       "      <td>False</td>\n",
       "      <td>NaN</td>\n",
       "      <td>17</td>\n",
       "      <td>4</td>\n",
       "      <td>140</td>\n",
       "      <td>0.4</td>\n",
       "    </tr>\n",
       "    <tr>\n",
       "      <th>3</th>\n",
       "      <td>4.0</td>\n",
       "      <td>False</td>\n",
       "      <td>True</td>\n",
       "      <td>False</td>\n",
       "      <td>False</td>\n",
       "      <td>average</td>\n",
       "      <td>False</td>\n",
       "      <td>dressy</td>\n",
       "      <td>False</td>\n",
       "      <td>True</td>\n",
       "      <td>...</td>\n",
       "      <td>NaN</td>\n",
       "      <td>NaN</td>\n",
       "      <td>NaN</td>\n",
       "      <td>NaN</td>\n",
       "      <td>False</td>\n",
       "      <td>NaN</td>\n",
       "      <td>10</td>\n",
       "      <td>4</td>\n",
       "      <td>140</td>\n",
       "      <td>0.2</td>\n",
       "    </tr>\n",
       "    <tr>\n",
       "      <th>4</th>\n",
       "      <td>4.0</td>\n",
       "      <td>False</td>\n",
       "      <td>True</td>\n",
       "      <td>False</td>\n",
       "      <td>False</td>\n",
       "      <td>average</td>\n",
       "      <td>False</td>\n",
       "      <td>dressy</td>\n",
       "      <td>False</td>\n",
       "      <td>True</td>\n",
       "      <td>...</td>\n",
       "      <td>NaN</td>\n",
       "      <td>NaN</td>\n",
       "      <td>NaN</td>\n",
       "      <td>NaN</td>\n",
       "      <td>False</td>\n",
       "      <td>NaN</td>\n",
       "      <td>12</td>\n",
       "      <td>4</td>\n",
       "      <td>140</td>\n",
       "      <td>0.5</td>\n",
       "    </tr>\n",
       "  </tbody>\n",
       "</table>\n",
       "<p>5 rows × 43 columns</p>\n",
       "</div>"
      ],
      "text/plain": [
       "   stars BikeParking BusinessAcceptsCreditCards GoodForKids  HasTV NoiseLevel  \\\n",
       "0    4.0        True                       True         NaN    NaN        NaN   \n",
       "1    4.0       False                       True       False  False    average   \n",
       "2    4.0       False                       True       False  False    average   \n",
       "3    4.0       False                       True       False  False    average   \n",
       "4    4.0       False                       True       False  False    average   \n",
       "\n",
       "  OutdoorSeating RestaurantsAttire RestaurantsDelivery  \\\n",
       "0            NaN               NaN                 NaN   \n",
       "1          False            dressy               False   \n",
       "2          False            dressy               False   \n",
       "3          False            dressy               False   \n",
       "4          False            dressy               False   \n",
       "\n",
       "  RestaurantsGoodForGroups    ...      BusinessAcceptsBitcoin  \\\n",
       "0                      NaN    ...                         NaN   \n",
       "1                     True    ...                         NaN   \n",
       "2                     True    ...                         NaN   \n",
       "3                     True    ...                         NaN   \n",
       "4                     True    ...                         NaN   \n",
       "\n",
       "  HairSpecializesIn AgesAllowed RestaurantsCounterService Open24Hours  \\\n",
       "0               NaN         NaN                       NaN         NaN   \n",
       "1               NaN         NaN                       NaN       False   \n",
       "2               NaN         NaN                       NaN       False   \n",
       "3               NaN         NaN                       NaN       False   \n",
       "4               NaN         NaN                       NaN       False   \n",
       "\n",
       "  DietaryRestrictions useful review_stars count(checkins) sentiments  \n",
       "0                 NaN     11            4              47        0.6  \n",
       "1                 NaN      9            4             140        0.4  \n",
       "2                 NaN     17            4             140        0.4  \n",
       "3                 NaN     10            4             140        0.2  \n",
       "4                 NaN     12            4             140        0.5  \n",
       "\n",
       "[5 rows x 43 columns]"
      ]
     },
     "execution_count": 3,
     "metadata": {},
     "output_type": "execute_result"
    }
   ],
   "source": [
    "# drop columns that are not useable\n",
    "df.drop(columns=['Unnamed: 0','business_id','BusinessParking','text'],inplace=True)\n",
    "df.head()"
   ]
  },
  {
   "cell_type": "code",
   "execution_count": 4,
   "metadata": {},
   "outputs": [],
   "source": [
    "# drop reviews that are not honest\n",
    "a = df['review_stars']\n",
    "RS_scale = np.interp(a, (a.min(), a.max()), (-1, +1))\n",
    "drop_index = df[abs(RS_scale - df['sentiments']) > 1.5].index\n",
    "df.drop(index=drop_index,inplace=True)"
   ]
  },
  {
   "cell_type": "code",
   "execution_count": 5,
   "metadata": {},
   "outputs": [],
   "source": [
    "# take out the numeric coutinuous value and store it\n",
    "countinuous_col = ['useful','count(checkins)','sentiments']\n",
    "df_num = df[countinuous_col]\n",
    "df.drop(columns=countinuous_col,inplace = True)"
   ]
  },
  {
   "cell_type": "code",
   "execution_count": 6,
   "metadata": {},
   "outputs": [],
   "source": [
    "df = df.fillna(\"NA\")"
   ]
  },
  {
   "cell_type": "code",
   "execution_count": 7,
   "metadata": {},
   "outputs": [],
   "source": [
    "df = df.astype(str)"
   ]
  },
  {
   "cell_type": "code",
   "execution_count": 8,
   "metadata": {},
   "outputs": [
    {
     "data": {
      "text/html": [
       "<div>\n",
       "<style scoped>\n",
       "    .dataframe tbody tr th:only-of-type {\n",
       "        vertical-align: middle;\n",
       "    }\n",
       "\n",
       "    .dataframe tbody tr th {\n",
       "        vertical-align: top;\n",
       "    }\n",
       "\n",
       "    .dataframe thead th {\n",
       "        text-align: right;\n",
       "    }\n",
       "</style>\n",
       "<table border=\"1\" class=\"dataframe\">\n",
       "  <thead>\n",
       "    <tr style=\"text-align: right;\">\n",
       "      <th></th>\n",
       "      <th>stars</th>\n",
       "      <th>BikeParking</th>\n",
       "      <th>BusinessAcceptsCreditCards</th>\n",
       "      <th>GoodForKids</th>\n",
       "      <th>HasTV</th>\n",
       "      <th>NoiseLevel</th>\n",
       "      <th>OutdoorSeating</th>\n",
       "      <th>RestaurantsAttire</th>\n",
       "      <th>RestaurantsDelivery</th>\n",
       "      <th>RestaurantsGoodForGroups</th>\n",
       "      <th>...</th>\n",
       "      <th>Smoking</th>\n",
       "      <th>ByAppointmentOnly</th>\n",
       "      <th>AcceptsInsurance</th>\n",
       "      <th>BusinessAcceptsBitcoin</th>\n",
       "      <th>HairSpecializesIn</th>\n",
       "      <th>AgesAllowed</th>\n",
       "      <th>RestaurantsCounterService</th>\n",
       "      <th>Open24Hours</th>\n",
       "      <th>DietaryRestrictions</th>\n",
       "      <th>review_stars</th>\n",
       "    </tr>\n",
       "  </thead>\n",
       "  <tbody>\n",
       "    <tr>\n",
       "      <th>0</th>\n",
       "      <td>4.0</td>\n",
       "      <td>True</td>\n",
       "      <td>True</td>\n",
       "      <td>NA</td>\n",
       "      <td>NA</td>\n",
       "      <td>NA</td>\n",
       "      <td>NA</td>\n",
       "      <td>NA</td>\n",
       "      <td>NA</td>\n",
       "      <td>NA</td>\n",
       "      <td>...</td>\n",
       "      <td>NA</td>\n",
       "      <td>NA</td>\n",
       "      <td>NA</td>\n",
       "      <td>NA</td>\n",
       "      <td>NA</td>\n",
       "      <td>NA</td>\n",
       "      <td>NA</td>\n",
       "      <td>NA</td>\n",
       "      <td>NA</td>\n",
       "      <td>4</td>\n",
       "    </tr>\n",
       "    <tr>\n",
       "      <th>1</th>\n",
       "      <td>4.0</td>\n",
       "      <td>False</td>\n",
       "      <td>True</td>\n",
       "      <td>False</td>\n",
       "      <td>False</td>\n",
       "      <td>average</td>\n",
       "      <td>False</td>\n",
       "      <td>dressy</td>\n",
       "      <td>False</td>\n",
       "      <td>True</td>\n",
       "      <td>...</td>\n",
       "      <td>NA</td>\n",
       "      <td>NA</td>\n",
       "      <td>NA</td>\n",
       "      <td>NA</td>\n",
       "      <td>NA</td>\n",
       "      <td>NA</td>\n",
       "      <td>NA</td>\n",
       "      <td>False</td>\n",
       "      <td>NA</td>\n",
       "      <td>4</td>\n",
       "    </tr>\n",
       "    <tr>\n",
       "      <th>2</th>\n",
       "      <td>4.0</td>\n",
       "      <td>False</td>\n",
       "      <td>True</td>\n",
       "      <td>False</td>\n",
       "      <td>False</td>\n",
       "      <td>average</td>\n",
       "      <td>False</td>\n",
       "      <td>dressy</td>\n",
       "      <td>False</td>\n",
       "      <td>True</td>\n",
       "      <td>...</td>\n",
       "      <td>NA</td>\n",
       "      <td>NA</td>\n",
       "      <td>NA</td>\n",
       "      <td>NA</td>\n",
       "      <td>NA</td>\n",
       "      <td>NA</td>\n",
       "      <td>NA</td>\n",
       "      <td>False</td>\n",
       "      <td>NA</td>\n",
       "      <td>4</td>\n",
       "    </tr>\n",
       "    <tr>\n",
       "      <th>3</th>\n",
       "      <td>4.0</td>\n",
       "      <td>False</td>\n",
       "      <td>True</td>\n",
       "      <td>False</td>\n",
       "      <td>False</td>\n",
       "      <td>average</td>\n",
       "      <td>False</td>\n",
       "      <td>dressy</td>\n",
       "      <td>False</td>\n",
       "      <td>True</td>\n",
       "      <td>...</td>\n",
       "      <td>NA</td>\n",
       "      <td>NA</td>\n",
       "      <td>NA</td>\n",
       "      <td>NA</td>\n",
       "      <td>NA</td>\n",
       "      <td>NA</td>\n",
       "      <td>NA</td>\n",
       "      <td>False</td>\n",
       "      <td>NA</td>\n",
       "      <td>4</td>\n",
       "    </tr>\n",
       "    <tr>\n",
       "      <th>4</th>\n",
       "      <td>4.0</td>\n",
       "      <td>False</td>\n",
       "      <td>True</td>\n",
       "      <td>False</td>\n",
       "      <td>False</td>\n",
       "      <td>average</td>\n",
       "      <td>False</td>\n",
       "      <td>dressy</td>\n",
       "      <td>False</td>\n",
       "      <td>True</td>\n",
       "      <td>...</td>\n",
       "      <td>NA</td>\n",
       "      <td>NA</td>\n",
       "      <td>NA</td>\n",
       "      <td>NA</td>\n",
       "      <td>NA</td>\n",
       "      <td>NA</td>\n",
       "      <td>NA</td>\n",
       "      <td>False</td>\n",
       "      <td>NA</td>\n",
       "      <td>4</td>\n",
       "    </tr>\n",
       "  </tbody>\n",
       "</table>\n",
       "<p>5 rows × 40 columns</p>\n",
       "</div>"
      ],
      "text/plain": [
       "  stars BikeParking BusinessAcceptsCreditCards GoodForKids  HasTV NoiseLevel  \\\n",
       "0   4.0        True                       True          NA     NA         NA   \n",
       "1   4.0       False                       True       False  False    average   \n",
       "2   4.0       False                       True       False  False    average   \n",
       "3   4.0       False                       True       False  False    average   \n",
       "4   4.0       False                       True       False  False    average   \n",
       "\n",
       "  OutdoorSeating RestaurantsAttire RestaurantsDelivery  \\\n",
       "0             NA                NA                  NA   \n",
       "1          False            dressy               False   \n",
       "2          False            dressy               False   \n",
       "3          False            dressy               False   \n",
       "4          False            dressy               False   \n",
       "\n",
       "  RestaurantsGoodForGroups     ...      Smoking ByAppointmentOnly  \\\n",
       "0                       NA     ...           NA                NA   \n",
       "1                     True     ...           NA                NA   \n",
       "2                     True     ...           NA                NA   \n",
       "3                     True     ...           NA                NA   \n",
       "4                     True     ...           NA                NA   \n",
       "\n",
       "  AcceptsInsurance BusinessAcceptsBitcoin HairSpecializesIn AgesAllowed  \\\n",
       "0               NA                     NA                NA          NA   \n",
       "1               NA                     NA                NA          NA   \n",
       "2               NA                     NA                NA          NA   \n",
       "3               NA                     NA                NA          NA   \n",
       "4               NA                     NA                NA          NA   \n",
       "\n",
       "  RestaurantsCounterService Open24Hours DietaryRestrictions review_stars  \n",
       "0                        NA          NA                  NA            4  \n",
       "1                        NA       False                  NA            4  \n",
       "2                        NA       False                  NA            4  \n",
       "3                        NA       False                  NA            4  \n",
       "4                        NA       False                  NA            4  \n",
       "\n",
       "[5 rows x 40 columns]"
      ]
     },
     "execution_count": 8,
     "metadata": {},
     "output_type": "execute_result"
    }
   ],
   "source": [
    "df.head()"
   ]
  },
  {
   "cell_type": "code",
   "execution_count": 9,
   "metadata": {},
   "outputs": [
    {
     "name": "stdout",
     "output_type": "stream",
     "text": [
      "<class 'pandas.core.frame.DataFrame'>\n",
      "Int64Index: 127314 entries, 0 to 127326\n",
      "Data columns (total 40 columns):\n",
      "stars                         127314 non-null object\n",
      "BikeParking                   127314 non-null object\n",
      "BusinessAcceptsCreditCards    127314 non-null object\n",
      "GoodForKids                   127314 non-null object\n",
      "HasTV                         127314 non-null object\n",
      "NoiseLevel                    127314 non-null object\n",
      "OutdoorSeating                127314 non-null object\n",
      "RestaurantsAttire             127314 non-null object\n",
      "RestaurantsDelivery           127314 non-null object\n",
      "RestaurantsGoodForGroups      127314 non-null object\n",
      "RestaurantsPriceRange2        127314 non-null object\n",
      "RestaurantsReservations       127314 non-null object\n",
      "RestaurantsTakeOut            127314 non-null object\n",
      "Alcohol                       127314 non-null object\n",
      "Caters                        127314 non-null object\n",
      "DogsAllowed                   127314 non-null object\n",
      "DriveThru                     127314 non-null object\n",
      "GoodForMeal                   127314 non-null object\n",
      "RestaurantsTableService       127314 non-null object\n",
      "WheelchairAccessible          127314 non-null object\n",
      "WiFi                          127314 non-null object\n",
      "Ambience                      127314 non-null object\n",
      "BYOB                          127314 non-null object\n",
      "BYOBCorkage                   127314 non-null object\n",
      "BestNights                    127314 non-null object\n",
      "CoatCheck                     127314 non-null object\n",
      "Corkage                       127314 non-null object\n",
      "GoodForDancing                127314 non-null object\n",
      "HappyHour                     127314 non-null object\n",
      "Music                         127314 non-null object\n",
      "Smoking                       127314 non-null object\n",
      "ByAppointmentOnly             127314 non-null object\n",
      "AcceptsInsurance              127314 non-null object\n",
      "BusinessAcceptsBitcoin        127314 non-null object\n",
      "HairSpecializesIn             127314 non-null object\n",
      "AgesAllowed                   127314 non-null object\n",
      "RestaurantsCounterService     127314 non-null object\n",
      "Open24Hours                   127314 non-null object\n",
      "DietaryRestrictions           127314 non-null object\n",
      "review_stars                  127314 non-null object\n",
      "dtypes: object(40)\n",
      "memory usage: 39.8+ MB\n"
     ]
    }
   ],
   "source": [
    "df.info()"
   ]
  },
  {
   "cell_type": "code",
   "execution_count": 10,
   "metadata": {},
   "outputs": [],
   "source": [
    "df_complete = df.join(df_num)"
   ]
  },
  {
   "cell_type": "code",
   "execution_count": 11,
   "metadata": {},
   "outputs": [],
   "source": [
    "# there are some NAs in sentiments, drop those samples\n",
    "df_complete.dropna(subset=['sentiments'],inplace=True)"
   ]
  },
  {
   "cell_type": "code",
   "execution_count": 12,
   "metadata": {},
   "outputs": [
    {
     "name": "stdout",
     "output_type": "stream",
     "text": [
      "<class 'pandas.core.frame.DataFrame'>\n",
      "Int64Index: 127312 entries, 0 to 127326\n",
      "Data columns (total 43 columns):\n",
      "stars                         127312 non-null object\n",
      "BikeParking                   127312 non-null object\n",
      "BusinessAcceptsCreditCards    127312 non-null object\n",
      "GoodForKids                   127312 non-null object\n",
      "HasTV                         127312 non-null object\n",
      "NoiseLevel                    127312 non-null object\n",
      "OutdoorSeating                127312 non-null object\n",
      "RestaurantsAttire             127312 non-null object\n",
      "RestaurantsDelivery           127312 non-null object\n",
      "RestaurantsGoodForGroups      127312 non-null object\n",
      "RestaurantsPriceRange2        127312 non-null object\n",
      "RestaurantsReservations       127312 non-null object\n",
      "RestaurantsTakeOut            127312 non-null object\n",
      "Alcohol                       127312 non-null object\n",
      "Caters                        127312 non-null object\n",
      "DogsAllowed                   127312 non-null object\n",
      "DriveThru                     127312 non-null object\n",
      "GoodForMeal                   127312 non-null object\n",
      "RestaurantsTableService       127312 non-null object\n",
      "WheelchairAccessible          127312 non-null object\n",
      "WiFi                          127312 non-null object\n",
      "Ambience                      127312 non-null object\n",
      "BYOB                          127312 non-null object\n",
      "BYOBCorkage                   127312 non-null object\n",
      "BestNights                    127312 non-null object\n",
      "CoatCheck                     127312 non-null object\n",
      "Corkage                       127312 non-null object\n",
      "GoodForDancing                127312 non-null object\n",
      "HappyHour                     127312 non-null object\n",
      "Music                         127312 non-null object\n",
      "Smoking                       127312 non-null object\n",
      "ByAppointmentOnly             127312 non-null object\n",
      "AcceptsInsurance              127312 non-null object\n",
      "BusinessAcceptsBitcoin        127312 non-null object\n",
      "HairSpecializesIn             127312 non-null object\n",
      "AgesAllowed                   127312 non-null object\n",
      "RestaurantsCounterService     127312 non-null object\n",
      "Open24Hours                   127312 non-null object\n",
      "DietaryRestrictions           127312 non-null object\n",
      "review_stars                  127312 non-null object\n",
      "useful                        127312 non-null int64\n",
      "count(checkins)               127312 non-null int64\n",
      "sentiments                    127312 non-null float64\n",
      "dtypes: float64(1), int64(2), object(40)\n",
      "memory usage: 42.7+ MB\n"
     ]
    }
   ],
   "source": [
    "df_complete.info()"
   ]
  },
  {
   "cell_type": "code",
   "execution_count": 13,
   "metadata": {},
   "outputs": [
    {
     "data": {
      "text/plain": [
       "Index(['stars', 'BikeParking', 'BusinessAcceptsCreditCards', 'GoodForKids',\n",
       "       'HasTV', 'NoiseLevel', 'OutdoorSeating', 'RestaurantsAttire',\n",
       "       'RestaurantsDelivery', 'RestaurantsGoodForGroups',\n",
       "       'RestaurantsPriceRange2', 'RestaurantsReservations',\n",
       "       'RestaurantsTakeOut', 'Alcohol', 'Caters', 'DogsAllowed', 'DriveThru',\n",
       "       'GoodForMeal', 'RestaurantsTableService', 'WheelchairAccessible',\n",
       "       'WiFi', 'Ambience', 'BYOB', 'BYOBCorkage', 'BestNights', 'CoatCheck',\n",
       "       'Corkage', 'GoodForDancing', 'HappyHour', 'Music', 'Smoking',\n",
       "       'ByAppointmentOnly', 'AcceptsInsurance', 'BusinessAcceptsBitcoin',\n",
       "       'HairSpecializesIn', 'AgesAllowed', 'RestaurantsCounterService',\n",
       "       'Open24Hours', 'DietaryRestrictions', 'review_stars', 'useful',\n",
       "       'count(checkins)', 'sentiments'],\n",
       "      dtype='object')"
      ]
     },
     "execution_count": 13,
     "metadata": {},
     "output_type": "execute_result"
    }
   ],
   "source": [
    "df_complete.columns"
   ]
  },
  {
   "cell_type": "code",
   "execution_count": 14,
   "metadata": {},
   "outputs": [],
   "source": [
    "columns = ['review_stars','stars', 'BikeParking', 'BusinessAcceptsCreditCards', 'GoodForKids',\n",
    "       'HasTV', 'NoiseLevel', 'OutdoorSeating', 'RestaurantsAttire',\n",
    "       'RestaurantsDelivery', 'RestaurantsGoodForGroups',\n",
    "       'RestaurantsPriceRange2', 'RestaurantsReservations',\n",
    "       'RestaurantsTakeOut', 'Alcohol', 'Caters', 'DogsAllowed', 'DriveThru',\n",
    "       'GoodForMeal', 'RestaurantsTableService', 'WheelchairAccessible',\n",
    "       'WiFi', 'Ambience', 'BYOB', 'BYOBCorkage', 'BestNights', 'CoatCheck',\n",
    "       'Corkage', 'GoodForDancing', 'HappyHour', 'Music', 'Smoking',\n",
    "       'ByAppointmentOnly', 'AcceptsInsurance', 'BusinessAcceptsBitcoin',\n",
    "       'HairSpecializesIn', 'AgesAllowed', 'RestaurantsCounterService',\n",
    "       'Open24Hours', 'DietaryRestrictions',  'useful',\n",
    "       'count(checkins)', 'sentiments']"
   ]
  },
  {
   "cell_type": "code",
   "execution_count": 15,
   "metadata": {},
   "outputs": [],
   "source": [
    "df_complete = df_complete.reindex(columns = columns)"
   ]
  },
  {
   "cell_type": "code",
   "execution_count": 16,
   "metadata": {},
   "outputs": [
    {
     "data": {
      "text/html": [
       "<div>\n",
       "<style scoped>\n",
       "    .dataframe tbody tr th:only-of-type {\n",
       "        vertical-align: middle;\n",
       "    }\n",
       "\n",
       "    .dataframe tbody tr th {\n",
       "        vertical-align: top;\n",
       "    }\n",
       "\n",
       "    .dataframe thead th {\n",
       "        text-align: right;\n",
       "    }\n",
       "</style>\n",
       "<table border=\"1\" class=\"dataframe\">\n",
       "  <thead>\n",
       "    <tr style=\"text-align: right;\">\n",
       "      <th></th>\n",
       "      <th>review_stars</th>\n",
       "      <th>stars</th>\n",
       "      <th>BikeParking</th>\n",
       "      <th>BusinessAcceptsCreditCards</th>\n",
       "      <th>GoodForKids</th>\n",
       "      <th>HasTV</th>\n",
       "      <th>NoiseLevel</th>\n",
       "      <th>OutdoorSeating</th>\n",
       "      <th>RestaurantsAttire</th>\n",
       "      <th>RestaurantsDelivery</th>\n",
       "      <th>...</th>\n",
       "      <th>AcceptsInsurance</th>\n",
       "      <th>BusinessAcceptsBitcoin</th>\n",
       "      <th>HairSpecializesIn</th>\n",
       "      <th>AgesAllowed</th>\n",
       "      <th>RestaurantsCounterService</th>\n",
       "      <th>Open24Hours</th>\n",
       "      <th>DietaryRestrictions</th>\n",
       "      <th>useful</th>\n",
       "      <th>count(checkins)</th>\n",
       "      <th>sentiments</th>\n",
       "    </tr>\n",
       "  </thead>\n",
       "  <tbody>\n",
       "    <tr>\n",
       "      <th>0</th>\n",
       "      <td>4</td>\n",
       "      <td>4.0</td>\n",
       "      <td>True</td>\n",
       "      <td>True</td>\n",
       "      <td>NA</td>\n",
       "      <td>NA</td>\n",
       "      <td>NA</td>\n",
       "      <td>NA</td>\n",
       "      <td>NA</td>\n",
       "      <td>NA</td>\n",
       "      <td>...</td>\n",
       "      <td>NA</td>\n",
       "      <td>NA</td>\n",
       "      <td>NA</td>\n",
       "      <td>NA</td>\n",
       "      <td>NA</td>\n",
       "      <td>NA</td>\n",
       "      <td>NA</td>\n",
       "      <td>11</td>\n",
       "      <td>47</td>\n",
       "      <td>0.6</td>\n",
       "    </tr>\n",
       "    <tr>\n",
       "      <th>1</th>\n",
       "      <td>4</td>\n",
       "      <td>4.0</td>\n",
       "      <td>False</td>\n",
       "      <td>True</td>\n",
       "      <td>False</td>\n",
       "      <td>False</td>\n",
       "      <td>average</td>\n",
       "      <td>False</td>\n",
       "      <td>dressy</td>\n",
       "      <td>False</td>\n",
       "      <td>...</td>\n",
       "      <td>NA</td>\n",
       "      <td>NA</td>\n",
       "      <td>NA</td>\n",
       "      <td>NA</td>\n",
       "      <td>NA</td>\n",
       "      <td>False</td>\n",
       "      <td>NA</td>\n",
       "      <td>9</td>\n",
       "      <td>140</td>\n",
       "      <td>0.4</td>\n",
       "    </tr>\n",
       "    <tr>\n",
       "      <th>2</th>\n",
       "      <td>4</td>\n",
       "      <td>4.0</td>\n",
       "      <td>False</td>\n",
       "      <td>True</td>\n",
       "      <td>False</td>\n",
       "      <td>False</td>\n",
       "      <td>average</td>\n",
       "      <td>False</td>\n",
       "      <td>dressy</td>\n",
       "      <td>False</td>\n",
       "      <td>...</td>\n",
       "      <td>NA</td>\n",
       "      <td>NA</td>\n",
       "      <td>NA</td>\n",
       "      <td>NA</td>\n",
       "      <td>NA</td>\n",
       "      <td>False</td>\n",
       "      <td>NA</td>\n",
       "      <td>17</td>\n",
       "      <td>140</td>\n",
       "      <td>0.4</td>\n",
       "    </tr>\n",
       "    <tr>\n",
       "      <th>3</th>\n",
       "      <td>4</td>\n",
       "      <td>4.0</td>\n",
       "      <td>False</td>\n",
       "      <td>True</td>\n",
       "      <td>False</td>\n",
       "      <td>False</td>\n",
       "      <td>average</td>\n",
       "      <td>False</td>\n",
       "      <td>dressy</td>\n",
       "      <td>False</td>\n",
       "      <td>...</td>\n",
       "      <td>NA</td>\n",
       "      <td>NA</td>\n",
       "      <td>NA</td>\n",
       "      <td>NA</td>\n",
       "      <td>NA</td>\n",
       "      <td>False</td>\n",
       "      <td>NA</td>\n",
       "      <td>10</td>\n",
       "      <td>140</td>\n",
       "      <td>0.2</td>\n",
       "    </tr>\n",
       "    <tr>\n",
       "      <th>4</th>\n",
       "      <td>4</td>\n",
       "      <td>4.0</td>\n",
       "      <td>False</td>\n",
       "      <td>True</td>\n",
       "      <td>False</td>\n",
       "      <td>False</td>\n",
       "      <td>average</td>\n",
       "      <td>False</td>\n",
       "      <td>dressy</td>\n",
       "      <td>False</td>\n",
       "      <td>...</td>\n",
       "      <td>NA</td>\n",
       "      <td>NA</td>\n",
       "      <td>NA</td>\n",
       "      <td>NA</td>\n",
       "      <td>NA</td>\n",
       "      <td>False</td>\n",
       "      <td>NA</td>\n",
       "      <td>12</td>\n",
       "      <td>140</td>\n",
       "      <td>0.5</td>\n",
       "    </tr>\n",
       "  </tbody>\n",
       "</table>\n",
       "<p>5 rows × 43 columns</p>\n",
       "</div>"
      ],
      "text/plain": [
       "  review_stars stars BikeParking BusinessAcceptsCreditCards GoodForKids  \\\n",
       "0            4   4.0        True                       True          NA   \n",
       "1            4   4.0       False                       True       False   \n",
       "2            4   4.0       False                       True       False   \n",
       "3            4   4.0       False                       True       False   \n",
       "4            4   4.0       False                       True       False   \n",
       "\n",
       "   HasTV NoiseLevel OutdoorSeating RestaurantsAttire RestaurantsDelivery  \\\n",
       "0     NA         NA             NA                NA                  NA   \n",
       "1  False    average          False            dressy               False   \n",
       "2  False    average          False            dressy               False   \n",
       "3  False    average          False            dressy               False   \n",
       "4  False    average          False            dressy               False   \n",
       "\n",
       "     ...     AcceptsInsurance BusinessAcceptsBitcoin HairSpecializesIn  \\\n",
       "0    ...                   NA                     NA                NA   \n",
       "1    ...                   NA                     NA                NA   \n",
       "2    ...                   NA                     NA                NA   \n",
       "3    ...                   NA                     NA                NA   \n",
       "4    ...                   NA                     NA                NA   \n",
       "\n",
       "  AgesAllowed RestaurantsCounterService Open24Hours DietaryRestrictions  \\\n",
       "0          NA                        NA          NA                  NA   \n",
       "1          NA                        NA       False                  NA   \n",
       "2          NA                        NA       False                  NA   \n",
       "3          NA                        NA       False                  NA   \n",
       "4          NA                        NA       False                  NA   \n",
       "\n",
       "  useful count(checkins) sentiments  \n",
       "0     11              47        0.6  \n",
       "1      9             140        0.4  \n",
       "2     17             140        0.4  \n",
       "3     10             140        0.2  \n",
       "4     12             140        0.5  \n",
       "\n",
       "[5 rows x 43 columns]"
      ]
     },
     "execution_count": 16,
     "metadata": {},
     "output_type": "execute_result"
    }
   ],
   "source": [
    "df_complete.head()"
   ]
  },
  {
   "cell_type": "code",
   "execution_count": 30,
   "metadata": {},
   "outputs": [],
   "source": [
    "# encode the categorical variable to foat arrays\n",
    "enc_y = OneHotEncoder(handle_unknown='ignore')\n",
    "Y = enc_y.fit_transform(df_complete['review_stars'].values.reshape(len(df_complete['review_stars']),1))"
   ]
  },
  {
   "cell_type": "code",
   "execution_count": 31,
   "metadata": {},
   "outputs": [],
   "source": [
    "enc_x = OneHotEncoder(handle_unknown='ignore')\n",
    "x = df_complete.loc[:,'stars':]\n",
    "X = enc_x.fit_transform(x).toarray()"
   ]
  },
  {
   "cell_type": "code",
   "execution_count": 32,
   "metadata": {},
   "outputs": [
    {
     "data": {
      "text/plain": [
       "(127312, 5)"
      ]
     },
     "execution_count": 32,
     "metadata": {},
     "output_type": "execute_result"
    }
   ],
   "source": [
    "Y.shape"
   ]
  },
  {
   "cell_type": "code",
   "execution_count": 33,
   "metadata": {},
   "outputs": [],
   "source": [
    "# split the training and testing set\n",
    "x_train, x_test, y_train, y_test = train_test_split(X,Y)"
   ]
  },
  {
   "cell_type": "code",
   "execution_count": 34,
   "metadata": {},
   "outputs": [
    {
     "data": {
      "text/plain": [
       "(95484, 984)"
      ]
     },
     "execution_count": 34,
     "metadata": {},
     "output_type": "execute_result"
    }
   ],
   "source": [
    "x_train.shape"
   ]
  },
  {
   "cell_type": "markdown",
   "metadata": {},
   "source": [
    "# Neural Net"
   ]
  },
  {
   "cell_type": "code",
   "execution_count": 23,
   "metadata": {},
   "outputs": [],
   "source": [
    "model = Sequential()\n",
    "# input layer\n",
    "model.add(Dense(units=985, activation='sigmoid', input_dim=984))\n",
    "\n",
    "# Hidden layers\n",
    "model.add(Dense(units=3, activation='sigmoid'))\n",
    "model.add(Dense(units=3, activation='sigmoid'))\n",
    "\n",
    "# output layer\n",
    "model.add(Dense(units=5, activation='softmax'))\n",
    "\n",
    "# Stochastic gradient descent optimizer.\n",
    "sgd = keras.optimizers.SGD(lr=0.1, momentum=0.0, decay=0.0, nesterov=False)\n",
    "# compile the model\n",
    "model.compile(optimizer=sgd,\n",
    "              loss='categorical_crossentropy',\n",
    "              metrics=['accuracy'])"
   ]
  },
  {
   "cell_type": "code",
   "execution_count": 62,
   "metadata": {},
   "outputs": [
    {
     "name": "stdout",
     "output_type": "stream",
     "text": [
      "Epoch 1/100\n",
      "95484/95484 [==============================] - 20s 212us/step - loss: 1.4754 - acc: 0.3398\n",
      "Epoch 2/100\n",
      "95484/95484 [==============================] - 20s 209us/step - loss: 1.1439 - acc: 0.5047\n",
      "Epoch 3/100\n",
      "95484/95484 [==============================] - 20s 209us/step - loss: 0.9804 - acc: 0.5589\n",
      "Epoch 4/100\n",
      "95484/95484 [==============================] - 21s 220us/step - loss: 0.9511 - acc: 0.5749\n",
      "Epoch 5/100\n",
      "95484/95484 [==============================] - 21s 223us/step - loss: 0.9394 - acc: 0.5824\n",
      "Epoch 6/100\n",
      "95484/95484 [==============================] - 22s 229us/step - loss: 0.9290 - acc: 0.5867\n",
      "Epoch 7/100\n",
      "95484/95484 [==============================] - 20s 210us/step - loss: 0.9197 - acc: 0.5928\n",
      "Epoch 8/100\n",
      "95484/95484 [==============================] - 20s 210us/step - loss: 0.9140 - acc: 0.5973\n",
      "Epoch 9/100\n",
      "95484/95484 [==============================] - 21s 217us/step - loss: 0.9115 - acc: 0.5973\n",
      "Epoch 10/100\n",
      "95484/95484 [==============================] - 21s 219us/step - loss: 0.9080 - acc: 0.5984\n",
      "Epoch 11/100\n",
      "95484/95484 [==============================] - 20s 214us/step - loss: 0.9059 - acc: 0.5998\n",
      "Epoch 12/100\n",
      "95484/95484 [==============================] - 20s 211us/step - loss: 0.9053 - acc: 0.5993\n",
      "Epoch 13/100\n",
      "95484/95484 [==============================] - 20s 210us/step - loss: 0.9030 - acc: 0.6002\n",
      "Epoch 14/100\n",
      "95484/95484 [==============================] - 20s 209us/step - loss: 0.9011 - acc: 0.6005\n",
      "Epoch 15/100\n",
      "95484/95484 [==============================] - 20s 211us/step - loss: 0.9000 - acc: 0.6032\n",
      "Epoch 16/100\n",
      "95484/95484 [==============================] - 20s 211us/step - loss: 0.8978 - acc: 0.6029\n",
      "Epoch 17/100\n",
      "95484/95484 [==============================] - 20s 212us/step - loss: 0.8965 - acc: 0.6034\n",
      "Epoch 18/100\n",
      "95484/95484 [==============================] - 20s 214us/step - loss: 0.8950 - acc: 0.6031\n",
      "Epoch 19/100\n",
      "95484/95484 [==============================] - 21s 215us/step - loss: 0.8931 - acc: 0.6052\n",
      "Epoch 20/100\n",
      "95484/95484 [==============================] - 20s 214us/step - loss: 0.8919 - acc: 0.6052\n",
      "Epoch 21/100\n",
      "95484/95484 [==============================] - 21s 216us/step - loss: 0.8906 - acc: 0.6060\n",
      "Epoch 22/100\n",
      "95484/95484 [==============================] - 21s 215us/step - loss: 0.8882 - acc: 0.6052\n",
      "Epoch 23/100\n",
      "95484/95484 [==============================] - 21s 216us/step - loss: 0.8869 - acc: 0.6068\n",
      "Epoch 24/100\n",
      "95484/95484 [==============================] - 20s 214us/step - loss: 0.8857 - acc: 0.6072\n",
      "Epoch 25/100\n",
      "95484/95484 [==============================] - 21s 215us/step - loss: 0.8833 - acc: 0.6073\n",
      "Epoch 26/100\n",
      "95484/95484 [==============================] - 21s 216us/step - loss: 0.8826 - acc: 0.6079\n",
      "Epoch 27/100\n",
      "95484/95484 [==============================] - 21s 215us/step - loss: 0.8810 - acc: 0.6090\n",
      "Epoch 28/100\n",
      "95484/95484 [==============================] - 21s 217us/step - loss: 0.8797 - acc: 0.6100\n",
      "Epoch 29/100\n",
      "95484/95484 [==============================] - 21s 216us/step - loss: 0.8792 - acc: 0.6102\n",
      "Epoch 30/100\n",
      "95484/95484 [==============================] - 21s 217us/step - loss: 0.8779 - acc: 0.6097\n",
      "Epoch 31/100\n",
      "95484/95484 [==============================] - 21s 215us/step - loss: 0.8773 - acc: 0.6108\n",
      "Epoch 32/100\n",
      "95484/95484 [==============================] - 21s 216us/step - loss: 0.8762 - acc: 0.6111\n",
      "Epoch 33/100\n",
      "95484/95484 [==============================] - 21s 215us/step - loss: 0.8761 - acc: 0.6123\n",
      "Epoch 34/100\n",
      "95484/95484 [==============================] - 21s 215us/step - loss: 0.8747 - acc: 0.6129\n",
      "Epoch 35/100\n",
      "95484/95484 [==============================] - 21s 221us/step - loss: 0.8740 - acc: 0.6123\n",
      "Epoch 36/100\n",
      "95484/95484 [==============================] - 22s 229us/step - loss: 0.8733 - acc: 0.6127\n",
      "Epoch 37/100\n",
      "95484/95484 [==============================] - 22s 236us/step - loss: 0.8725 - acc: 0.6124\n",
      "Epoch 38/100\n",
      "95484/95484 [==============================] - 22s 226us/step - loss: 0.8715 - acc: 0.6135\n",
      "Epoch 39/100\n",
      "95484/95484 [==============================] - 22s 227us/step - loss: 0.8715 - acc: 0.6135\n",
      "Epoch 40/100\n",
      "95484/95484 [==============================] - 24s 247us/step - loss: 0.8709 - acc: 0.6141\n",
      "Epoch 41/100\n",
      "95484/95484 [==============================] - 21s 221us/step - loss: 0.8700 - acc: 0.6126\n",
      "Epoch 42/100\n",
      "95484/95484 [==============================] - 20s 210us/step - loss: 0.8692 - acc: 0.6146\n",
      "Epoch 43/100\n",
      "95484/95484 [==============================] - 20s 210us/step - loss: 0.8689 - acc: 0.6153\n",
      "Epoch 44/100\n",
      "95484/95484 [==============================] - 20s 209us/step - loss: 0.8682 - acc: 0.6147\n",
      "Epoch 45/100\n",
      "95484/95484 [==============================] - 20s 209us/step - loss: 0.8677 - acc: 0.6149\n",
      "Epoch 46/100\n",
      "95484/95484 [==============================] - 20s 211us/step - loss: 0.8673 - acc: 0.6152\n",
      "Epoch 47/100\n",
      "95484/95484 [==============================] - 20s 211us/step - loss: 0.8666 - acc: 0.6157\n",
      "Epoch 48/100\n",
      "95484/95484 [==============================] - 20s 212us/step - loss: 0.8661 - acc: 0.6158\n",
      "Epoch 49/100\n",
      "95484/95484 [==============================] - 20s 210us/step - loss: 0.8654 - acc: 0.6160\n",
      "Epoch 50/100\n",
      "95484/95484 [==============================] - 20s 211us/step - loss: 0.8660 - acc: 0.6165\n",
      "Epoch 51/100\n",
      "95484/95484 [==============================] - 20s 210us/step - loss: 0.8648 - acc: 0.6164\n",
      "Epoch 52/100\n",
      "95484/95484 [==============================] - 20s 210us/step - loss: 0.8640 - acc: 0.6177\n",
      "Epoch 53/100\n",
      "95484/95484 [==============================] - 20s 208us/step - loss: 0.8634 - acc: 0.6168\n",
      "Epoch 54/100\n",
      "95484/95484 [==============================] - 20s 209us/step - loss: 0.8631 - acc: 0.6172\n",
      "Epoch 55/100\n",
      "95484/95484 [==============================] - 20s 209us/step - loss: 0.8620 - acc: 0.6173\n",
      "Epoch 56/100\n",
      "95484/95484 [==============================] - 20s 211us/step - loss: 0.8621 - acc: 0.6185\n",
      "Epoch 57/100\n",
      "95484/95484 [==============================] - 20s 208us/step - loss: 0.8617 - acc: 0.6171\n",
      "Epoch 58/100\n",
      "95484/95484 [==============================] - 20s 209us/step - loss: 0.8610 - acc: 0.6198\n",
      "Epoch 59/100\n",
      "95484/95484 [==============================] - 20s 208us/step - loss: 0.8605 - acc: 0.6178\n",
      "Epoch 60/100\n",
      "95484/95484 [==============================] - 20s 208us/step - loss: 0.8600 - acc: 0.6180\n",
      "Epoch 61/100\n",
      "95484/95484 [==============================] - 20s 208us/step - loss: 0.8597 - acc: 0.6182\n",
      "Epoch 62/100\n",
      "95484/95484 [==============================] - 20s 209us/step - loss: 0.8591 - acc: 0.6195\n",
      "Epoch 63/100\n",
      "95484/95484 [==============================] - 20s 209us/step - loss: 0.8585 - acc: 0.6195\n",
      "Epoch 64/100\n",
      "95484/95484 [==============================] - 20s 210us/step - loss: 0.8580 - acc: 0.6200\n",
      "Epoch 65/100\n",
      "95484/95484 [==============================] - 20s 209us/step - loss: 0.8577 - acc: 0.6203\n",
      "Epoch 66/100\n",
      "95484/95484 [==============================] - 20s 210us/step - loss: 0.8573 - acc: 0.6205\n",
      "Epoch 67/100\n",
      "95484/95484 [==============================] - 20s 209us/step - loss: 0.8564 - acc: 0.6208\n",
      "Epoch 68/100\n",
      "95484/95484 [==============================] - 20s 209us/step - loss: 0.8565 - acc: 0.6214\n",
      "Epoch 69/100\n",
      "95484/95484 [==============================] - 20s 210us/step - loss: 0.8556 - acc: 0.6196\n",
      "Epoch 70/100\n",
      "95484/95484 [==============================] - 20s 210us/step - loss: 0.8550 - acc: 0.6223\n",
      "Epoch 71/100\n",
      "95484/95484 [==============================] - 20s 209us/step - loss: 0.8552 - acc: 0.6203\n",
      "Epoch 72/100\n",
      "95484/95484 [==============================] - 20s 211us/step - loss: 0.8549 - acc: 0.6209\n",
      "Epoch 73/100\n",
      "95484/95484 [==============================] - 20s 210us/step - loss: 0.8543 - acc: 0.6210\n",
      "Epoch 74/100\n",
      "95484/95484 [==============================] - 20s 209us/step - loss: 0.8541 - acc: 0.6218\n",
      "Epoch 75/100\n",
      "95484/95484 [==============================] - 20s 210us/step - loss: 0.8535 - acc: 0.6216\n",
      "Epoch 76/100\n",
      "95484/95484 [==============================] - 20s 210us/step - loss: 0.8528 - acc: 0.6225\n",
      "Epoch 77/100\n",
      "95484/95484 [==============================] - 20s 210us/step - loss: 0.8519 - acc: 0.6223\n",
      "Epoch 78/100\n",
      "95484/95484 [==============================] - 20s 209us/step - loss: 0.8524 - acc: 0.6212\n",
      "Epoch 79/100\n",
      "95484/95484 [==============================] - 20s 207us/step - loss: 0.8514 - acc: 0.6224\n",
      "Epoch 80/100\n",
      "95484/95484 [==============================] - 20s 207us/step - loss: 0.8510 - acc: 0.6227\n",
      "Epoch 81/100\n",
      "95484/95484 [==============================] - 20s 206us/step - loss: 0.8508 - acc: 0.6230\n",
      "Epoch 82/100\n",
      "95484/95484 [==============================] - 20s 206us/step - loss: 0.8501 - acc: 0.6235\n",
      "Epoch 83/100\n",
      "95484/95484 [==============================] - 20s 206us/step - loss: 0.8497 - acc: 0.6239\n",
      "Epoch 84/100\n",
      "95484/95484 [==============================] - 20s 206us/step - loss: 0.8491 - acc: 0.6237\n",
      "Epoch 85/100\n",
      "95484/95484 [==============================] - 20s 206us/step - loss: 0.8487 - acc: 0.6244\n",
      "Epoch 86/100\n",
      "95484/95484 [==============================] - 20s 209us/step - loss: 0.8486 - acc: 0.6239\n",
      "Epoch 87/100\n",
      "95484/95484 [==============================] - 20s 205us/step - loss: 0.8478 - acc: 0.6250\n",
      "Epoch 88/100\n",
      "95484/95484 [==============================] - 20s 206us/step - loss: 0.8469 - acc: 0.6250\n",
      "Epoch 89/100\n",
      "95484/95484 [==============================] - 20s 206us/step - loss: 0.8469 - acc: 0.6245\n",
      "Epoch 90/100\n",
      "95484/95484 [==============================] - 20s 207us/step - loss: 0.8464 - acc: 0.6254\n",
      "Epoch 91/100\n",
      "95484/95484 [==============================] - 20s 207us/step - loss: 0.8462 - acc: 0.6255\n",
      "Epoch 92/100\n",
      "95484/95484 [==============================] - 20s 207us/step - loss: 0.8458 - acc: 0.6254\n",
      "Epoch 93/100\n",
      "95484/95484 [==============================] - 20s 206us/step - loss: 0.8449 - acc: 0.6256\n",
      "Epoch 94/100\n",
      "95484/95484 [==============================] - 20s 207us/step - loss: 0.8444 - acc: 0.6256\n",
      "Epoch 95/100\n",
      "95484/95484 [==============================] - 20s 206us/step - loss: 0.8441 - acc: 0.6257\n",
      "Epoch 96/100\n",
      "95484/95484 [==============================] - 19s 204us/step - loss: 0.8436 - acc: 0.6262\n",
      "Epoch 97/100\n",
      "95484/95484 [==============================] - 20s 205us/step - loss: 0.8433 - acc: 0.6265\n",
      "Epoch 98/100\n",
      "95484/95484 [==============================] - 20s 206us/step - loss: 0.8427 - acc: 0.6270\n",
      "Epoch 99/100\n",
      "95484/95484 [==============================] - 20s 205us/step - loss: 0.8420 - acc: 0.6264\n",
      "Epoch 100/100\n",
      "95484/95484 [==============================] - 20s 206us/step - loss: 0.8416 - acc: 0.6276\n"
     ]
    }
   ],
   "source": [
    "hist = model.fit(x_train,y_train,epochs=100)"
   ]
  },
  {
   "cell_type": "code",
   "execution_count": 64,
   "metadata": {},
   "outputs": [
    {
     "data": {
      "text/plain": [
       "[<matplotlib.lines.Line2D at 0x7f9d3341d358>]"
      ]
     },
     "execution_count": 64,
     "metadata": {},
     "output_type": "execute_result"
    },
    {
     "data": {
      "image/png": "[encoded data removed]",
      "text/plain": [
       "<Figure size 432x288 with 1 Axes>"
      ]
     },
     "metadata": {
      "needs_background": "light"
     },
     "output_type": "display_data"
    }
   ],
   "source": [
    "plt.plot(hist.history['acc'])"
   ]
  },
  {
   "cell_type": "markdown",
   "metadata": {},
   "source": [
    "**save model in case of computer crush**"
   ]
  },
  {
   "cell_type": "code",
   "execution_count": 90,
   "metadata": {},
   "outputs": [],
   "source": [
    "model_json = model.to_json()\n",
    "with open(\"model.json\",'w') as json_file:\n",
    "    json_file.write(model_json)"
   ]
  },
  {
   "cell_type": "code",
   "execution_count": 91,
   "metadata": {},
   "outputs": [],
   "source": [
    "model.save_weights(\"model_weights.h5\")"
   ]
  },
  {
   "cell_type": "code",
   "execution_count": 92,
   "metadata": {},
   "outputs": [],
   "source": [
    "np.savetxt(\"hist1.csv\",hist.history['acc'],delimiter=\",\")\n",
    "#np.savetxt(\"hist2.csv\",hist2.history['acc'],delimiter=\",\")"
   ]
  },
  {
   "cell_type": "markdown",
   "metadata": {},
   "source": [
    "**read model**"
   ]
  },
  {
   "cell_type": "code",
   "execution_count": 24,
   "metadata": {},
   "outputs": [],
   "source": [
    "model.load_weights(\"model_weights.h5\")"
   ]
  },
  {
   "cell_type": "code",
   "execution_count": 25,
   "metadata": {},
   "outputs": [
    {
     "name": "stdout",
     "output_type": "stream",
     "text": [
      "31828/31828 [==============================] - 2s 64us/step\n"
     ]
    },
    {
     "data": {
      "text/plain": [
       "[0.8438019116005436, 0.6278748272111612]"
      ]
     },
     "execution_count": 25,
     "metadata": {},
     "output_type": "execute_result"
    }
   ],
   "source": [
    "# evaluate the model\n",
    "model.evaluate(x_test,y_test)"
   ]
  },
  {
   "cell_type": "code",
   "execution_count": 26,
   "metadata": {},
   "outputs": [
    {
     "data": {
      "text/plain": [
       "['loss', 'acc']"
      ]
     },
     "execution_count": 26,
     "metadata": {},
     "output_type": "execute_result"
    }
   ],
   "source": [
    "model.metrics_names"
   ]
  },
  {
   "cell_type": "code",
   "execution_count": 69,
   "metadata": {},
   "outputs": [
    {
     "data": {
      "text/plain": [
       "Text(0.5, 1.0, 'Original star distribution')"
      ]
     },
     "execution_count": 69,
     "metadata": {},
     "output_type": "execute_result"
    },
    {
     "data": {
      "image/png": "[encoded data removed]",
      "text/plain": [
       "<Figure size 432x288 with 1 Axes>"
      ]
     },
     "metadata": {
      "needs_background": "light"
     },
     "output_type": "display_data"
    }
   ],
   "source": [
    "# Original star distribution\n",
    "y_roginal = enc_y.inverse_transform(y_test).ravel()\n",
    "c = Counter(y_roginal)\n",
    "x = list(c.keys())\n",
    "x = np.asarray(x)\n",
    "results = list(map(int, x))\n",
    "plt.bar(results,c.values())\n",
    "plt.xlabel(\"star\")\n",
    "plt.ylabel(\"count\")\n",
    "plt.title('Original star distribution')"
   ]
  },
  {
   "cell_type": "code",
   "execution_count": 70,
   "metadata": {},
   "outputs": [
    {
     "data": {
      "text/plain": [
       "Text(0.5, 1.0, 'predicted star distribution')"
      ]
     },
     "execution_count": 70,
     "metadata": {},
     "output_type": "execute_result"
    },
    {
     "data": {
      "image/png": "[encoded data removed]",
      "text/plain": [
       "<Figure size 432x288 with 1 Axes>"
      ]
     },
     "metadata": {
      "needs_background": "light"
     },
     "output_type": "display_data"
    }
   ],
   "source": [
    "# predicted star distribution\n",
    "y_predic = model.predict_classes(x_test)\n",
    "c = Counter(y_predic)\n",
    "x = list(c.keys())\n",
    "x = np.asarray(x) + 1\n",
    "plt.bar(x ,c.values())\n",
    "plt.xlabel(\"star\")\n",
    "plt.ylabel(\"count\")\n",
    "plt.title('predicted star distribution')"
   ]
  },
  {
   "cell_type": "markdown",
   "metadata": {},
   "source": [
    "**model has 84.3% loss and 62.8% accuracy** "
   ]
  },
  {
   "cell_type": "markdown",
   "metadata": {},
   "source": [
    "# Logistic regression"
   ]
  },
  {
   "cell_type": "code",
   "execution_count": 40,
   "metadata": {},
   "outputs": [],
   "source": [
    "# encode y to labels that logistic regressor can accept\n",
    "y_train_origin = enc_y.inverse_transform(y_train)\n",
    "y_test_origin = enc_y.inverse_transform(y_test)\n",
    "y_train_logis = LabelEncoder().fit_transform(y_train_origin.ravel())\n",
    "y_test_logis = LabelEncoder().fit_transform(y_test_origin.ravel())"
   ]
  },
  {
   "cell_type": "code",
   "execution_count": 41,
   "metadata": {},
   "outputs": [
    {
     "name": "stderr",
     "output_type": "stream",
     "text": [
      "/home/xingwei/anaconda3/lib/python3.6/site-packages/sklearn/linear_model/logistic.py:433: FutureWarning: Default solver will be changed to 'lbfgs' in 0.22. Specify a solver to silence this warning.\n",
      "  FutureWarning)\n",
      "/home/xingwei/anaconda3/lib/python3.6/site-packages/sklearn/linear_model/logistic.py:460: FutureWarning: Default multi_class will be changed to 'auto' in 0.22. Specify the multi_class option to silence this warning.\n",
      "  \"this warning.\", FutureWarning)\n"
     ]
    }
   ],
   "source": [
    "logi = LogisticRegression(penalty='l1').fit(x_train,y_train_logis)"
   ]
  },
  {
   "cell_type": "code",
   "execution_count": 43,
   "metadata": {},
   "outputs": [
    {
     "data": {
      "text/plain": [
       "0.613910530283991"
      ]
     },
     "execution_count": 43,
     "metadata": {},
     "output_type": "execute_result"
    }
   ],
   "source": [
    "logi.score(x_test,y_test_logis)"
   ]
  },
  {
   "cell_type": "markdown",
   "metadata": {},
   "source": [
    "# SVM with cross validation"
   ]
  },
  {
   "cell_type": "code",
   "execution_count": 21,
   "metadata": {},
   "outputs": [],
   "source": [
    "def svm_with_cv(X, Y, name, choosefeature):\n",
    "\n",
    "    # encode y\n",
    "    enc_y = LabelBinarizer()\n",
    "    y = enc_y.fit_transform(Y)\n",
    "\n",
    "    enc_y2 = LabelEncoder()\n",
    "    y2 = enc_y2.fit_transform(Y)\n",
    "    n_classes = enc_y2.classes_.shape[0]\n",
    "\n",
    "    # choose feature\n",
    "    if choosefeature:\n",
    "        clf_logi = LogisticRegression(penalty='l1')\n",
    "        selected = SelectFromModel(clf_logi).fit(X, y2)\n",
    "        index = np.argwhere(selected.get_support() == True)\n",
    "        index = index.ravel()\n",
    "        X = X[:, index]\n",
    "        feature_num = len(index)\n",
    "\n",
    "    cv2 = StratifiedKFold(n_splits=n_classes)\n",
    "    # cv = KFold(n_splits=n_classes)\n",
    "    classifier = OneVsRestClassifier(svm.SVC(kernel='linear', probability=True))\n",
    "\n",
    "    tprs = []\n",
    "    aucs = []\n",
    "    mean_fpr = np.linspace(0, 1, 100)\n",
    "\n",
    "    precisions = []\n",
    "    average_precisions = []\n",
    "    mean_recall = np.linspace(0, 1, 100)\n",
    "    # recalls = []\n",
    "\n",
    "    for train, test in cv2.split(X, y2):\n",
    "        X_train, X_test = X[train], X[test]\n",
    "        y_train, y_test = y[train], y[test]\n",
    "        y_score = classifier.fit(X_train, y_train).decision_function(X_test)\n",
    "\n",
    "        # Compute micro-average ROC curve and ROC area\n",
    "        fpr, tpr, _ = roc_curve(y_test.ravel(), y_score.ravel())\n",
    "        tprs.append(interp(mean_fpr, fpr, tpr))\n",
    "        tprs[-1][0] = 0.0\n",
    "        roc_auc = auc(fpr, tpr)\n",
    "        aucs.append(roc_auc)\n",
    "\n",
    "        recall, precision, _ = precision_recall_curve(y_test.ravel(), y_score.ravel())\n",
    "        precisions.append(interp(mean_recall, recall, precision))\n",
    "        average_precision = average_precision_score(y_test.ravel(), y_score.ravel())\n",
    "        average_precisions.append(average_precision)\n",
    "\n",
    "    plt.figure(1, figsize=(8, 6))\n",
    "    mean_tpr = np.mean(tprs, axis=0)\n",
    "    mean_tpr[-1] = 1.0\n",
    "    mean_auc = auc(mean_fpr, mean_tpr)\n",
    "\n",
    "    plt.plot(mean_fpr, mean_tpr, lw=2, alpha=.8, label='Mean ROC for {}(AUC = {})'.format(name, round(mean_auc, 2)))\n",
    "    plt.legend(loc='lower right')\n",
    "    plt.xlabel('False Positive Rate')\n",
    "    plt.ylabel('True Positive Rate')\n",
    "    plt.title(\"ROC Curve\")\n",
    "    plt.show()\n",
    "\n",
    "    plt.figure(2, figsize=(8, 6))\n",
    "    mean_precision = np.mean(precisions, axis=0)\n",
    "    AUPRC = np.mean(average_precisions)\n",
    "    # average_precision = average_precision_score(mean_recall, mean_precision)\n",
    "    plt.plot(mean_recall, mean_precision, label=\"Mean PR for {}(AUPRC = {})\".format(name, round(AUPRC, 2)))\n",
    "    plt.legend(loc='upper right')\n",
    "    plt.xlabel(\"Recall\")\n",
    "    plt.ylabel(\"Precision\")\n",
    "    plt.title(\"PR Curve\")\n",
    "    plt.show()\n",
    "    try:\n",
    "        print(\"the number of features for {} are {}\".format(name, feature_num))\n",
    "    except:\n",
    "        pass\n",
    "\n"
   ]
  },
  {
   "cell_type": "code",
   "execution_count": 32,
   "metadata": {},
   "outputs": [
    {
     "data": {
      "text/plain": [
       "(5001, 516)"
      ]
     },
     "execution_count": 32,
     "metadata": {},
     "output_type": "execute_result"
    }
   ],
   "source": [
    "Y = df_complete.loc[:5000,'review_stars']\n",
    "X = df_complete.loc[:5000,'stars':]\n",
    "X = enc_x.fit_transform(X)\n",
    "X.shape"
   ]
  },
  {
   "cell_type": "markdown",
   "metadata": {},
   "source": [
    "**Due to computation power constrain, we can only perform SVM on 5000 data samples**"
   ]
  },
  {
   "cell_type": "code",
   "execution_count": 33,
   "metadata": {},
   "outputs": [
    {
     "name": "stderr",
     "output_type": "stream",
     "text": [
      "/home/xingwei/anaconda3/lib/python3.6/site-packages/sklearn/linear_model/logistic.py:433: FutureWarning: Default solver will be changed to 'lbfgs' in 0.22. Specify a solver to silence this warning.\n",
      "  FutureWarning)\n",
      "/home/xingwei/anaconda3/lib/python3.6/site-packages/sklearn/linear_model/logistic.py:460: FutureWarning: Default multi_class will be changed to 'auto' in 0.22. Specify the multi_class option to silence this warning.\n",
      "  \"this warning.\", FutureWarning)\n"
     ]
    },
    {
     "data": {
      "image/png": "[encoded data removed]",
      "text/plain": [
       "<Figure size 576x432 with 1 Axes>"
      ]
     },
     "metadata": {
      "needs_background": "light"
     },
     "output_type": "display_data"
    },
    {
     "data": {
      "image/png": "[encoded data removed]",
      "text/plain": [
       "<Figure size 576x432 with 1 Axes>"
      ]
     },
     "metadata": {
      "needs_background": "light"
     },
     "output_type": "display_data"
    },
    {
     "name": "stdout",
     "output_type": "stream",
     "text": [
      "the number of features for review_stars are 373\n"
     ]
    }
   ],
   "source": [
    "svm_with_cv(X, Y, 'review_stars', True)"
   ]
  },
  {
   "cell_type": "code",
   "execution_count": 34,
   "metadata": {},
   "outputs": [
    {
     "data": {
      "image/png": "[encoded data removed]",
      "text/plain": [
       "<Figure size 576x432 with 1 Axes>"
      ]
     },
     "metadata": {
      "needs_background": "light"
     },
     "output_type": "display_data"
    },
    {
     "data": {
      "image/png": "[encoded data removed]",
      "text/plain": [
       "<Figure size 576x432 with 1 Axes>"
      ]
     },
     "metadata": {
      "needs_background": "light"
     },
     "output_type": "display_data"
    }
   ],
   "source": [
    "# svm without feature selection\n",
    "svm_with_cv(X, Y, 'review_stars', False)"
   ]
  },
  {
   "cell_type": "markdown",
   "metadata": {},
   "source": [
    "# SVD dimension reduction"
   ]
  },
  {
   "cell_type": "code",
   "execution_count": 81,
   "metadata": {},
   "outputs": [
    {
     "data": {
      "text/plain": [
       "(5001, 516)"
      ]
     },
     "execution_count": 81,
     "metadata": {},
     "output_type": "execute_result"
    }
   ],
   "source": [
    "Y = df_complete.loc[:5000,'review_stars']\n",
    "X = df_complete.loc[:5000,'stars':]\n",
    "X = enc_x.fit_transform(X)\n",
    "X.shape"
   ]
  },
  {
   "cell_type": "code",
   "execution_count": 89,
   "metadata": {
    "scrolled": true
   },
   "outputs": [
    {
     "data": {
      "image/png": "[encoded data removed]",
      "text/plain": [
       "<Figure size 576x432 with 1 Axes>"
      ]
     },
     "metadata": {
      "needs_background": "light"
     },
     "output_type": "display_data"
    },
    {
     "data": {
      "image/png": "[encoded data removed]",
      "text/plain": [
       "<Figure size 576x432 with 1 Axes>"
      ]
     },
     "metadata": {
      "needs_background": "light"
     },
     "output_type": "display_data"
    }
   ],
   "source": [
    "svd = TruncatedSVD(n_components=20, random_state=42)\n",
    "reduced_X = svd.fit_transform(X)\n",
    "\n",
    "svm_with_cv(reduced_X, Y, 'review_stars', False)"
   ]
  },
  {
   "cell_type": "markdown",
   "metadata": {},
   "source": [
    "**conclusion: dimension reduction doesn't maintain or improve model accuracy.**"
   ]
  }
 ],
 "metadata": {
  "kernelspec": {
   "display_name": "Python 3",
   "language": "python",
   "name": "python3"
  },
  "language_info": {
   "codemirror_mode": {
    "name": "ipython",
    "version": 3
   },
   "file_extension": ".py",
   "mimetype": "text/x-python",
   "name": "python",
   "nbconvert_exporter": "python",
   "pygments_lexer": "ipython3",
   "version": "3.6.6"
  }
 },
 "nbformat": 4,
 "nbformat_minor": 2
}
