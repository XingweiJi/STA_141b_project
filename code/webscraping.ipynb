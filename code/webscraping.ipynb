{
 "cells": [
  {
   "cell_type": "code",
   "execution_count": null,
   "metadata": {},
   "outputs": [],
   "source": [
    "import requests\n",
    "import pandas as pd\n",
    "import numpy as np\n",
    "key = \"myiehrlImSEu0GOj4V2FzswMPhpyVxUgGC5k5m_asaaYvmfTeBcUNnRGamxeTTqqHWW9Autb3gz-CMpT6_VNQPs5UZr5he4c_UjT_NrSagIJQIQEamLvqhclnd3oW3Yx\"\n",
    "params = {'term': 'restaurants', 'location': 'Sacramento','limit':50}\n",
    "url = \"https://api.yelp.com/v3/businesses/search\"\n",
    "headers = {\n",
    "        'Authorization': 'Bearer %s' % key,\n",
    "    }\n",
    "req = requests.get(url,params=params,headers=headers)\n",
    "js = req.json()\n",
    "\n",
    "def extract_one_restaurant(dic):\n",
    "    ID = dic['id']\n",
    "    alias = dic['alias']\n",
    "    name = dic['name']\n",
    "    image_url = dic['image_url']\n",
    "    is_closed = dic['is_closed']\n",
    "    url = dic['url']\n",
    "    review_count = dic['review_count']\n",
    "    categories = [i['alias'] for i in dic['categories']]\n",
    "    rating = dic['rating']\n",
    "    coordinates = tuple(dic['coordinates'].values())\n",
    "    transactions = dic['transactions']\n",
    "    try :\n",
    "        price = dic['price']\n",
    "    except:\n",
    "        price = np.nan\n",
    "    address1 = dic['location']['address1']\n",
    "    address2 = dic['location']['address2']\n",
    "    address3 = dic['location']['address3']\n",
    "    city = dic['location']['city']\n",
    "    zip_code = dic['location']['zip_code']\n",
    "    country = dic['location']['country']\n",
    "    state = dic['location']['state']\n",
    "    display_address = dic['location']['display_address']\n",
    "    phone = dic['phone']\n",
    "    display_phone = dic['display_phone']\n",
    "    distance = dic['distance']\n",
    "    dic2 = {'id':ID, 'alias':alias, 'name':name, 'image_url':image_url, 'is_closed':is_closed, 'url':url, \n",
    "            'review_count':review_count, 'categories':categories, 'rating':rating, 'coordinates':coordinates,\n",
    "            'transactions':transactions, 'address1':address1, 'address2':address2, \n",
    "            'address3':address3, 'city':city, 'zip_code':zip_code, 'country':country, 'state':state, \n",
    "            'display_address':display_address, 'phone':phone, 'display_phone':display_phone, 'distance':distance}\n",
    "    return dic2\n",
    "\n",
    "webscapping = pd.DataFrame(extract_one_restaurant(i) for i in js['businesses'])\n",
    "\n",
    "webscapping"
   ]
  }
 ],
 "metadata": {
  "kernelspec": {
   "display_name": "Python 3",
   "language": "python",
   "name": "python3"
  },
  "language_info": {
   "codemirror_mode": {
    "name": "ipython",
    "version": 3
   },
   "file_extension": ".py",
   "mimetype": "text/x-python",
   "name": "python",
   "nbconvert_exporter": "python",
   "pygments_lexer": "ipython3",
   "version": "3.7.0"
  }
 },
 "nbformat": 4,
 "nbformat_minor": 2
}
