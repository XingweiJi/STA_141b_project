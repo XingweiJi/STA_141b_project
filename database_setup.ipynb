{
 "cells": [
  {
   "cell_type": "code",
   "execution_count": 1,
   "metadata": {},
   "outputs": [],
   "source": [
    "import pandas as pd\n",
    "import numpy as np\n",
    "import sqlalchemy as sqla\n",
    "from io import StringIO\n",
    "\n",
    "#establish connection to database\n",
    "conn = sqla.create_engine('sqlite:///yelp.sqlite')"
   ]
  },
  {
   "cell_type": "code",
   "execution_count": 2,
   "metadata": {
    "scrolled": true
   },
   "outputs": [],
   "source": [
    "#split business.json into bussines, attributes, hours and store in a database \n",
    "business=pd.read_json(\"yelp_dataset/yelp_academic_dataset_business.json\",lines=True)\n",
    "business.set_index(\"business_id\",inplace=True)\n",
    "\n",
    "attributes=pd.DataFrame.from_dict(business[\"attributes\"].dropna().to_dict(),orient=\"index\")\n",
    "attributes.index.name=\"business_id\"\n",
    "\n",
    "hours=pd.DataFrame.from_dict(business[\"hours\"].dropna().to_dict(),orient=\"index\")\n",
    "hours.index.name=\"business_id\"\n",
    "\n",
    "business.drop([\"hours\",\"attributes\"],axis=1,inplace=True)\n",
    "\n",
    "business.to_sql('business',conn,if_exists=\"replace\")\n",
    "hours.to_sql('hours',conn,if_exists=\"replace\")\n",
    "attributes.to_sql('attributes',conn,if_exists=\"replace\")\n",
    "\n",
    "#convert checkin.json into clean and neat dataframe and store in the database\n",
    "checkins=pd.read_json(\"yelp_dataset/yelp_academic_dataset_checkin.json\",lines=True,orient=\"record\",chunksize=10000)\n",
    "for checkin in checkins:\n",
    "    checkin.set_index(\"business_id\",inplace=True)\n",
    "    checkin=pd.DataFrame.from_dict(checkin[\"time\"].to_dict(),orient=\"index\")\n",
    "    checkin.reset_index(inplace=True)\n",
    "    checkin=checkin.melt(id_vars=\"index\")\n",
    "    days=pd.read_table(StringIO(checkin['variable'].to_csv(None,index=None)),sep='-',header=None)\n",
    "    checkin=checkin.join(days)\n",
    "    checkin.drop(\"variable\",axis=1,inplace=True)\n",
    "    checkin=checkin[[\"index\",0,1,\"value\"]]\n",
    "    checkin.columns=[\"business_id\",\"weekday\",\"hour\",\"checkins\"]\n",
    "    checkin.set_index(\"business_id\",inplace=True)\n",
    "    checkin[\"weekday\"]=checkin[\"weekday\"].astype(\"category\")\n",
    "    checkin.dropna(inplace=True)\n",
    "    checkin.to_sql('checkin',conn,if_exists=\"append\")\n",
    "\n",
    "#store review.json into the database\n",
    "reviews=pd.read_json(\"yelp_dataset/yelp_academic_dataset_review.json\",chunksize=100000,lines=True)\n",
    "for review in reviews:\n",
    "    review.set_index(\"business_id\",inplace=True)\n",
    "    review.to_sql(\"review\",conn,if_exists=\"append\")"
   ]
  },
  {
   "cell_type": "code",
   "execution_count": null,
   "metadata": {},
   "outputs": [],
   "source": []
  }
 ],
 "metadata": {
  "kernelspec": {
   "display_name": "Python 3",
   "language": "python",
   "name": "python3"
  },
  "language_info": {
   "codemirror_mode": {
    "name": "ipython",
    "version": 3
   },
   "file_extension": ".py",
   "mimetype": "text/x-python",
   "name": "python",
   "nbconvert_exporter": "python",
   "pygments_lexer": "ipython3",
   "version": "3.7.0"
  }
 },
 "nbformat": 4,
 "nbformat_minor": 2
}
