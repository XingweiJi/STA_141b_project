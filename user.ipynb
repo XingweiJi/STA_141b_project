{
 "cells": [
  {
   "cell_type": "code",
   "execution_count": 59,
   "metadata": {},
   "outputs": [],
   "source": [
    "import pandas as pd\n",
    "import numpy as np\n",
    "import sqlalchemy as sqla\n",
    "import plotnine as p9\n",
    "import matplotlib.pyplot as plt\n",
    "from io import StringIO\n",
    "from scipy.stats import chi2_contingency\n",
    "import statsmodels.api as sm\n",
    "from wordcloud import WordCloud, STOPWORDS, ImageColorGenerator\n",
    "\n",
    "#establish connection to database\n",
    "conn = sqla.create_engine('sqlite:///yelp.sqlite')\n"
   ]
  },
  {
   "cell_type": "markdown",
   "metadata": {},
   "source": [
    " # Business Analysis"
   ]
  },
  {
   "cell_type": "code",
   "execution_count": 2,
   "metadata": {},
   "outputs": [],
   "source": [
    "business = pd.read_sql_query(\"\"\"\n",
    "                         select business.*, attributes.RestaurantsPriceRange2\n",
    "                         from business, attributes\n",
    "                         where business.business_id = attributes.business_id \"\"\", conn)\n"
   ]
  },
  {
   "cell_type": "markdown",
   "metadata": {},
   "source": [
    "## Dependencey between price/stars"
   ]
  },
  {
   "cell_type": "code",
   "execution_count": 126,
   "metadata": {},
   "outputs": [],
   "source": [
    "\n",
    "df_price = business.copy()\n",
    "df_price = df_price[df_price['RestaurantsPriceRange2'].notnull()]\n",
    "\n",
    "tab = pd.crosstab(df_price['stars'],df_price['RestaurantsPriceRange2'])\n",
    "tab = tab.loc[:,[\"1\", \"2\", \"3\", \"4\"]]\n",
    "table = sm.stats.Table(tab)\n",
    "# print(table.table_orig)\n",
    "# print(table.fittedvalues)\n",
    "# print(table.resid_pearson)\n",
    "# rslt = table.test_nominal_association()\n",
    "# print(rslt.pvalue)\n"
   ]
  },
  {
   "cell_type": "code",
   "execution_count": 128,
   "metadata": {
    "scrolled": true
   },
   "outputs": [],
   "source": [
    "table_count = pd.crosstab(df_price.stars, df_price.RestaurantsPriceRange2).\\\n",
    "                    replace(0,np.nan).stack().reset_index().rename(columns={0:'Counts'})\n",
    "\n",
    "# p9.ggplot(table_count, p9.aes('stars','RestaurantsPriceRange2', fill = 'Counts')) + \\\n",
    "#     p9.geom_tile(p9.aes(),color=\"black\") + \\\n",
    "#     p9.geom_text(p9.aes(label = 'Counts'), size = 9)  +\\\n",
    "#     p9.scale_fill_gradient(low = \"white\", high = \"Orange\") +\\\n",
    "#     p9.theme_minimal(base_size = 15)  +\\\n",
    "#     p9.labs(title = \"Restaurants's Stars with corresponding Price level \",y =\"Price Level \",       x = \"Stars\")"
   ]
  },
  {
   "cell_type": "code",
   "execution_count": 10,
   "metadata": {},
   "outputs": [],
   "source": [
    "\n",
    "df_1star = test.loc[test['stars'] == 1]\n",
    "wc = WordCloud()"
   ]
  },
  {
   "cell_type": "code",
   "execution_count": 33,
   "metadata": {
    "scrolled": true
   },
   "outputs": [],
   "source": [
    "counts = test[\"city\"].value_counts()[0:10]\n",
    "top_10_city = pd.DataFrame(counts).reset_index()\n",
    "\n",
    "top_10_city.columns = ['City','Counts']\n",
    "# top_10_city\n",
    "# p9.ggplot(top_10_city) + p9.geom_bar(p9.aes(x = 'City',fill = 'Counts'),\n",
    "# position = \"stack\",alpha=0.4)"
   ]
  },
  {
   "cell_type": "code",
   "execution_count": 18,
   "metadata": {
    "scrolled": false
   },
   "outputs": [
    {
     "data": {
      "text/plain": [
       "['business_id',\n",
       " 'address',\n",
       " 'categories',\n",
       " 'city',\n",
       " 'is_open',\n",
       " 'latitude',\n",
       " 'longitude',\n",
       " 'name',\n",
       " 'neighborhood',\n",
       " 'postal_code',\n",
       " 'review_count',\n",
       " 'stars',\n",
       " 'state',\n",
       " 'RestaurantsPriceRange2']"
      ]
     },
     "execution_count": 18,
     "metadata": {},
     "output_type": "execute_result"
    }
   ],
   "source": [
    "list(test.columns.values)"
   ]
  },
  {
   "cell_type": "markdown",
   "metadata": {},
   "source": [
    "##  10 most reviews "
   ]
  },
  {
   "cell_type": "code",
   "execution_count": 12,
   "metadata": {
    "scrolled": false
   },
   "outputs": [
    {
     "data": {
      "text/html": [
       "<div>\n",
       "<style scoped>\n",
       "    .dataframe tbody tr th:only-of-type {\n",
       "        vertical-align: middle;\n",
       "    }\n",
       "\n",
       "    .dataframe tbody tr th {\n",
       "        vertical-align: top;\n",
       "    }\n",
       "\n",
       "    .dataframe thead th {\n",
       "        text-align: right;\n",
       "    }\n",
       "</style>\n",
       "<table border=\"1\" class=\"dataframe\">\n",
       "  <thead>\n",
       "    <tr style=\"text-align: right;\">\n",
       "      <th></th>\n",
       "      <th>name</th>\n",
       "      <th>review_count</th>\n",
       "      <th>city</th>\n",
       "      <th>stars</th>\n",
       "    </tr>\n",
       "  </thead>\n",
       "  <tbody>\n",
       "    <tr>\n",
       "      <th>118888</th>\n",
       "      <td>Mon Ami Gabi</td>\n",
       "      <td>7968</td>\n",
       "      <td>Las Vegas</td>\n",
       "      <td>4.0</td>\n",
       "    </tr>\n",
       "    <tr>\n",
       "      <th>159820</th>\n",
       "      <td>Bacchanal Buffet</td>\n",
       "      <td>7866</td>\n",
       "      <td>Las Vegas</td>\n",
       "      <td>4.0</td>\n",
       "    </tr>\n",
       "    <tr>\n",
       "      <th>54163</th>\n",
       "      <td>Wicked Spoon</td>\n",
       "      <td>6446</td>\n",
       "      <td>Las Vegas</td>\n",
       "      <td>3.5</td>\n",
       "    </tr>\n",
       "    <tr>\n",
       "      <th>162552</th>\n",
       "      <td>Gordon Ramsay BurGR</td>\n",
       "      <td>5472</td>\n",
       "      <td>Las Vegas</td>\n",
       "      <td>4.0</td>\n",
       "    </tr>\n",
       "    <tr>\n",
       "      <th>146892</th>\n",
       "      <td>Hash House A Go Go</td>\n",
       "      <td>5382</td>\n",
       "      <td>Las Vegas</td>\n",
       "      <td>4.0</td>\n",
       "    </tr>\n",
       "    <tr>\n",
       "      <th>153256</th>\n",
       "      <td>Earl of Sandwich</td>\n",
       "      <td>4981</td>\n",
       "      <td>Las Vegas</td>\n",
       "      <td>4.5</td>\n",
       "    </tr>\n",
       "    <tr>\n",
       "      <th>156670</th>\n",
       "      <td>The Buffet</td>\n",
       "      <td>4240</td>\n",
       "      <td>Las Vegas</td>\n",
       "      <td>3.5</td>\n",
       "    </tr>\n",
       "    <tr>\n",
       "      <th>100330</th>\n",
       "      <td>The Cosmopolitan of Las Vegas</td>\n",
       "      <td>4097</td>\n",
       "      <td>Las Vegas</td>\n",
       "      <td>4.0</td>\n",
       "    </tr>\n",
       "    <tr>\n",
       "      <th>116602</th>\n",
       "      <td>The Buffet at Bellagio</td>\n",
       "      <td>4091</td>\n",
       "      <td>Las Vegas</td>\n",
       "      <td>3.5</td>\n",
       "    </tr>\n",
       "    <tr>\n",
       "      <th>156039</th>\n",
       "      <td>Secret Pizza</td>\n",
       "      <td>4078</td>\n",
       "      <td>Las Vegas</td>\n",
       "      <td>4.0</td>\n",
       "    </tr>\n",
       "  </tbody>\n",
       "</table>\n",
       "</div>"
      ],
      "text/plain": [
       "                                 name  review_count       city  stars\n",
       "118888                   Mon Ami Gabi          7968  Las Vegas    4.0\n",
       "159820               Bacchanal Buffet          7866  Las Vegas    4.0\n",
       "54163                    Wicked Spoon          6446  Las Vegas    3.5\n",
       "162552            Gordon Ramsay BurGR          5472  Las Vegas    4.0\n",
       "146892             Hash House A Go Go          5382  Las Vegas    4.0\n",
       "153256               Earl of Sandwich          4981  Las Vegas    4.5\n",
       "156670                     The Buffet          4240  Las Vegas    3.5\n",
       "100330  The Cosmopolitan of Las Vegas          4097  Las Vegas    4.0\n",
       "116602         The Buffet at Bellagio          4091  Las Vegas    3.5\n",
       "156039                   Secret Pizza          4078  Las Vegas    4.0"
      ]
     },
     "execution_count": 12,
     "metadata": {},
     "output_type": "execute_result"
    }
   ],
   "source": [
    "business[['name','review_count','city','stars']].sort_values(ascending = False, by = 'review_count')[0:10]"
   ]
  },
  {
   "cell_type": "code",
   "execution_count": 20,
   "metadata": {},
   "outputs": [],
   "source": [
    "check_in = pd.read_sql_query(\"\"\"\n",
    "                         select business.*, checkin.checkins\n",
    "                         from business, checkin\n",
    "                         where business.business_id = checkin.business_id \"\"\", conn)\n"
   ]
  },
  {
   "cell_type": "code",
   "execution_count": 4,
   "metadata": {},
   "outputs": [],
   "source": [
    "check_in2 = pd.read_sql_query(\"\"\"\n",
    "                         select business.city, checkin.checkins,checkin.hour\n",
    "                         from business, checkin\n",
    "                         where business.business_id = checkin.business_id \"\"\", conn)\n"
   ]
  },
  {
   "cell_type": "markdown",
   "metadata": {},
   "source": [
    "## Top 10 city ordered by checkin's count "
   ]
  },
  {
   "cell_type": "code",
   "execution_count": 32,
   "metadata": {},
   "outputs": [],
   "source": [
    "city2 = check_in2.groupby(['city']).sum()\n",
    "tc = city2.checkins.sort_values(ascending = False)[:10]\n",
    "tc = tc.to_frame().reset_index()\n"
   ]
  },
  {
   "cell_type": "code",
   "execution_count": 107,
   "metadata": {},
   "outputs": [
    {
     "data": {
      "text/html": [
       "<div>\n",
       "<style scoped>\n",
       "    .dataframe tbody tr th:only-of-type {\n",
       "        vertical-align: middle;\n",
       "    }\n",
       "\n",
       "    .dataframe tbody tr th {\n",
       "        vertical-align: top;\n",
       "    }\n",
       "\n",
       "    .dataframe thead th {\n",
       "        text-align: right;\n",
       "    }\n",
       "</style>\n",
       "<table border=\"1\" class=\"dataframe\">\n",
       "  <thead>\n",
       "    <tr style=\"text-align: right;\">\n",
       "      <th></th>\n",
       "      <th>city</th>\n",
       "      <th>checkins</th>\n",
       "    </tr>\n",
       "  </thead>\n",
       "  <tbody>\n",
       "    <tr>\n",
       "      <th>0</th>\n",
       "      <td>Las Vegas</td>\n",
       "      <td>6596713.0</td>\n",
       "    </tr>\n",
       "    <tr>\n",
       "      <th>1</th>\n",
       "      <td>Phoenix</td>\n",
       "      <td>2104624.0</td>\n",
       "    </tr>\n",
       "    <tr>\n",
       "      <th>2</th>\n",
       "      <td>Scottsdale</td>\n",
       "      <td>1390188.0</td>\n",
       "    </tr>\n",
       "    <tr>\n",
       "      <th>3</th>\n",
       "      <td>Toronto</td>\n",
       "      <td>868388.0</td>\n",
       "    </tr>\n",
       "    <tr>\n",
       "      <th>4</th>\n",
       "      <td>Charlotte</td>\n",
       "      <td>840886.0</td>\n",
       "    </tr>\n",
       "    <tr>\n",
       "      <th>5</th>\n",
       "      <td>Henderson</td>\n",
       "      <td>683771.0</td>\n",
       "    </tr>\n",
       "    <tr>\n",
       "      <th>6</th>\n",
       "      <td>Tempe</td>\n",
       "      <td>611692.0</td>\n",
       "    </tr>\n",
       "    <tr>\n",
       "      <th>7</th>\n",
       "      <td>Pittsburgh</td>\n",
       "      <td>505250.0</td>\n",
       "    </tr>\n",
       "    <tr>\n",
       "      <th>8</th>\n",
       "      <td>Chandler</td>\n",
       "      <td>410492.0</td>\n",
       "    </tr>\n",
       "    <tr>\n",
       "      <th>9</th>\n",
       "      <td>Mesa</td>\n",
       "      <td>375234.0</td>\n",
       "    </tr>\n",
       "  </tbody>\n",
       "</table>\n",
       "</div>"
      ],
      "text/plain": [
       "         city   checkins\n",
       "0   Las Vegas  6596713.0\n",
       "1     Phoenix  2104624.0\n",
       "2  Scottsdale  1390188.0\n",
       "3     Toronto   868388.0\n",
       "4   Charlotte   840886.0\n",
       "5   Henderson   683771.0\n",
       "6       Tempe   611692.0\n",
       "7  Pittsburgh   505250.0\n",
       "8    Chandler   410492.0\n",
       "9        Mesa   375234.0"
      ]
     },
     "execution_count": 107,
     "metadata": {},
     "output_type": "execute_result"
    }
   ],
   "source": [
    "city2"
   ]
  },
  {
   "cell_type": "code",
   "execution_count": 118,
   "metadata": {},
   "outputs": [],
   "source": [
    "city = check_in.groupby(['city']).sum()\n",
    "top_city = city.checkins.sort_values(ascending = False)[:10]\n",
    "top_10_city = top_city.to_frame().reset_index()\n"
   ]
  },
  {
   "cell_type": "code",
   "execution_count": 124,
   "metadata": {
    "scrolled": false
   },
   "outputs": [
    {
     "data": {
      "image/png": "[encoded data removed]",
      "text/plain": [
       "<Figure size 640x480 with 1 Axes>"
      ]
     },
     "metadata": {},
     "output_type": "display_data"
    },
    {
     "data": {
      "text/plain": [
       "<ggplot: (-9223372029039862314)>"
      ]
     },
     "execution_count": 124,
     "metadata": {},
     "output_type": "execute_result"
    }
   ],
   "source": [
    "p9.ggplot(top_10_city, p9.aes(x='city', y='checkins')) + \\\n",
    "    p9.geom_bar(stat='identity',fill = 'C0',alpha=0.5) + \\\n",
    "    p9.theme(axis_text_x=p9.element_text(rotation=45, hjust=1)) +\\\n",
    "    p9.scale_x_discrete(limits=top_10_city.city)"
   ]
  },
  {
   "cell_type": "markdown",
   "metadata": {},
   "source": [
    "## Checkin Dis'n without Las Vegas"
   ]
  },
  {
   "cell_type": "code",
   "execution_count": 103,
   "metadata": {
    "scrolled": true
   },
   "outputs": [],
   "source": [
    "non_vegas = check_in2.drop(check_in2[check_in2['city'] == 'Las Vegas'].index)\n",
    "hour = non_vegas.groupby('hour')['checkins'].sum()\n",
    "# hour_c = hour.to_frame().reset_index()\n",
    "# hour_c['checkins'].sort_values(ascending = False)"
   ]
  },
  {
   "cell_type": "code",
   "execution_count": 105,
   "metadata": {},
   "outputs": [
    {
     "data": {
      "text/plain": [
       "Text(0.5, 1.0, 'Total checkin counts in 24 hours')"
      ]
     },
     "execution_count": 105,
     "metadata": {},
     "output_type": "execute_result"
    },
    {
     "data": {
      "image/png": "[encoded data removed]",
      "text/plain": [
       "<Figure size 1080x360 with 1 Axes>"
      ]
     },
     "metadata": {},
     "output_type": "display_data"
    }
   ],
   "source": [
    "idx = hour.index\n",
    "y_pos = np.arange(len(idx))\n",
    "counts = list(hour)\n",
    "\n",
    "fig1, axl = plt.subplots(figsize = (15,5))\n",
    "plt.bar(y_pos, counts, align='center', alpha=0.5)\n",
    "plt.xticks(y_pos,idx)\n",
    "plt.ylabel('Counts')\n",
    "plt.title('Total checkin counts in 24 hours')"
   ]
  },
  {
   "cell_type": "code",
   "execution_count": null,
   "metadata": {},
   "outputs": [],
   "source": []
  }
 ],
 "metadata": {
  "kernelspec": {
   "display_name": "Python 3",
   "language": "python",
   "name": "python3"
  },
  "language_info": {
   "codemirror_mode": {
    "name": "ipython",
    "version": 3
   },
   "file_extension": ".py",
   "mimetype": "text/x-python",
   "name": "python",
   "nbconvert_exporter": "python",
   "pygments_lexer": "ipython3",
   "version": "3.6.5"
  }
 },
 "nbformat": 4,
 "nbformat_minor": 2
}
